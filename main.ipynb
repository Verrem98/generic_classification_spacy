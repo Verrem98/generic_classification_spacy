{
 "cells": [
  {
   "cell_type": "code",
   "execution_count": 1,
   "metadata": {},
   "outputs": [
    {
     "name": "stdout",
     "output_type": "stream",
     "text": [
      "Collecting nl-core-news-sm==3.2.0\n",
      "  Downloading https://github.com/explosion/spacy-models/releases/download/nl_core_news_sm-3.2.0/nl_core_news_sm-3.2.0-py3-none-any.whl (17.4 MB)\n",
      "     ---------------------------------------- 17.4/17.4 MB 8.1 MB/s eta 0:00:00\n",
      "Requirement already satisfied: spacy<3.3.0,>=3.2.0 in c:\\users\\emiel\\appdata\\roaming\\python\\python39\\site-packages (from nl-core-news-sm==3.2.0) (3.2.4)\n",
      "Requirement already satisfied: srsly<3.0.0,>=2.4.1 in c:\\users\\emiel\\anaconda3\\envs\\torchgpu\\lib\\site-packages (from spacy<3.3.0,>=3.2.0->nl-core-news-sm==3.2.0) (2.4.2)\n",
      "Requirement already satisfied: thinc<8.1.0,>=8.0.12 in c:\\users\\emiel\\anaconda3\\envs\\torchgpu\\lib\\site-packages (from spacy<3.3.0,>=3.2.0->nl-core-news-sm==3.2.0) (8.0.15)\n",
      "Requirement already satisfied: tqdm<5.0.0,>=4.38.0 in c:\\users\\emiel\\anaconda3\\envs\\torchgpu\\lib\\site-packages (from spacy<3.3.0,>=3.2.0->nl-core-news-sm==3.2.0) (4.64.0)\n",
      "Requirement already satisfied: numpy>=1.15.0 in c:\\users\\emiel\\anaconda3\\envs\\torchgpu\\lib\\site-packages (from spacy<3.3.0,>=3.2.0->nl-core-news-sm==3.2.0) (1.22.3)\n",
      "Requirement already satisfied: preshed<3.1.0,>=3.0.2 in c:\\users\\emiel\\anaconda3\\envs\\torchgpu\\lib\\site-packages (from spacy<3.3.0,>=3.2.0->nl-core-news-sm==3.2.0) (3.0.6)\n",
      "Requirement already satisfied: cymem<2.1.0,>=2.0.2 in c:\\users\\emiel\\anaconda3\\envs\\torchgpu\\lib\\site-packages (from spacy<3.3.0,>=3.2.0->nl-core-news-sm==3.2.0) (2.0.6)\n",
      "Requirement already satisfied: packaging>=20.0 in c:\\users\\emiel\\anaconda3\\envs\\torchgpu\\lib\\site-packages (from spacy<3.3.0,>=3.2.0->nl-core-news-sm==3.2.0) (21.3)\n",
      "Requirement already satisfied: requests<3.0.0,>=2.13.0 in c:\\users\\emiel\\anaconda3\\envs\\torchgpu\\lib\\site-packages (from spacy<3.3.0,>=3.2.0->nl-core-news-sm==3.2.0) (2.27.1)\n",
      "Requirement already satisfied: spacy-loggers<2.0.0,>=1.0.0 in c:\\users\\emiel\\anaconda3\\envs\\torchgpu\\lib\\site-packages (from spacy<3.3.0,>=3.2.0->nl-core-news-sm==3.2.0) (1.0.2)\n",
      "Requirement already satisfied: wasabi<1.1.0,>=0.8.1 in c:\\users\\emiel\\anaconda3\\envs\\torchgpu\\lib\\site-packages (from spacy<3.3.0,>=3.2.0->nl-core-news-sm==3.2.0) (0.9.1)\n",
      "Requirement already satisfied: setuptools in c:\\users\\emiel\\anaconda3\\envs\\torchgpu\\lib\\site-packages (from spacy<3.3.0,>=3.2.0->nl-core-news-sm==3.2.0) (62.0.0)\n",
      "Requirement already satisfied: spacy-legacy<3.1.0,>=3.0.8 in c:\\users\\emiel\\anaconda3\\envs\\torchgpu\\lib\\site-packages (from spacy<3.3.0,>=3.2.0->nl-core-news-sm==3.2.0) (3.0.9)\n",
      "Requirement already satisfied: typer<0.5.0,>=0.3.0 in c:\\users\\emiel\\anaconda3\\envs\\torchgpu\\lib\\site-packages (from spacy<3.3.0,>=3.2.0->nl-core-news-sm==3.2.0) (0.4.1)\n",
      "Requirement already satisfied: blis<0.8.0,>=0.4.0 in c:\\users\\emiel\\anaconda3\\envs\\torchgpu\\lib\\site-packages (from spacy<3.3.0,>=3.2.0->nl-core-news-sm==3.2.0) (0.7.7)\n",
      "Requirement already satisfied: click<8.1.0 in c:\\users\\emiel\\anaconda3\\envs\\torchgpu\\lib\\site-packages (from spacy<3.3.0,>=3.2.0->nl-core-news-sm==3.2.0) (8.0.4)\n",
      "Requirement already satisfied: pathy>=0.3.5 in c:\\users\\emiel\\anaconda3\\envs\\torchgpu\\lib\\site-packages (from spacy<3.3.0,>=3.2.0->nl-core-news-sm==3.2.0) (0.6.1)\n",
      "Requirement already satisfied: jinja2 in c:\\users\\emiel\\anaconda3\\envs\\torchgpu\\lib\\site-packages (from spacy<3.3.0,>=3.2.0->nl-core-news-sm==3.2.0) (3.1.1)\n",
      "Requirement already satisfied: pydantic!=1.8,!=1.8.1,<1.9.0,>=1.7.4 in c:\\users\\emiel\\anaconda3\\envs\\torchgpu\\lib\\site-packages (from spacy<3.3.0,>=3.2.0->nl-core-news-sm==3.2.0) (1.8.2)\n",
      "Requirement already satisfied: langcodes<4.0.0,>=3.2.0 in c:\\users\\emiel\\anaconda3\\envs\\torchgpu\\lib\\site-packages (from spacy<3.3.0,>=3.2.0->nl-core-news-sm==3.2.0) (3.3.0)\n",
      "Requirement already satisfied: murmurhash<1.1.0,>=0.28.0 in c:\\users\\emiel\\anaconda3\\envs\\torchgpu\\lib\\site-packages (from spacy<3.3.0,>=3.2.0->nl-core-news-sm==3.2.0) (1.0.6)\n",
      "Requirement already satisfied: catalogue<2.1.0,>=2.0.6 in c:\\users\\emiel\\anaconda3\\envs\\torchgpu\\lib\\site-packages (from spacy<3.3.0,>=3.2.0->nl-core-news-sm==3.2.0) (2.0.7)\n",
      "Requirement already satisfied: colorama in c:\\users\\emiel\\anaconda3\\envs\\torchgpu\\lib\\site-packages (from click<8.1.0->spacy<3.3.0,>=3.2.0->nl-core-news-sm==3.2.0) (0.4.4)\n",
      "Requirement already satisfied: pyparsing!=3.0.5,>=2.0.2 in c:\\users\\emiel\\anaconda3\\envs\\torchgpu\\lib\\site-packages (from packaging>=20.0->spacy<3.3.0,>=3.2.0->nl-core-news-sm==3.2.0) (3.0.7)\n",
      "Requirement already satisfied: smart-open<6.0.0,>=5.0.0 in c:\\users\\emiel\\anaconda3\\envs\\torchgpu\\lib\\site-packages (from pathy>=0.3.5->spacy<3.3.0,>=3.2.0->nl-core-news-sm==3.2.0) (5.2.1)\n",
      "Requirement already satisfied: typing-extensions>=3.7.4.3 in c:\\users\\emiel\\anaconda3\\envs\\torchgpu\\lib\\site-packages (from pydantic!=1.8,!=1.8.1,<1.9.0,>=1.7.4->spacy<3.3.0,>=3.2.0->nl-core-news-sm==3.2.0) (4.1.1)\n",
      "Requirement already satisfied: urllib3<1.27,>=1.21.1 in c:\\users\\emiel\\anaconda3\\envs\\torchgpu\\lib\\site-packages (from requests<3.0.0,>=2.13.0->spacy<3.3.0,>=3.2.0->nl-core-news-sm==3.2.0) (1.26.9)\n",
      "Requirement already satisfied: certifi>=2017.4.17 in c:\\users\\emiel\\anaconda3\\envs\\torchgpu\\lib\\site-packages (from requests<3.0.0,>=2.13.0->spacy<3.3.0,>=3.2.0->nl-core-news-sm==3.2.0) (2021.10.8)\n",
      "Requirement already satisfied: charset-normalizer~=2.0.0 in c:\\users\\emiel\\anaconda3\\envs\\torchgpu\\lib\\site-packages (from requests<3.0.0,>=2.13.0->spacy<3.3.0,>=3.2.0->nl-core-news-sm==3.2.0) (2.0.12)\n",
      "Requirement already satisfied: idna<4,>=2.5 in c:\\users\\emiel\\anaconda3\\envs\\torchgpu\\lib\\site-packages (from requests<3.0.0,>=2.13.0->spacy<3.3.0,>=3.2.0->nl-core-news-sm==3.2.0) (3.3)\n",
      "Requirement already satisfied: MarkupSafe>=2.0 in c:\\users\\emiel\\anaconda3\\envs\\torchgpu\\lib\\site-packages (from jinja2->spacy<3.3.0,>=3.2.0->nl-core-news-sm==3.2.0) (2.1.1)\n",
      "[+] Download and installation successful\n",
      "You can now load the package via spacy.load('nl_core_news_sm')\n"
     ]
    }
   ],
   "source": [
    "!python -m spacy download nl_core_news_sm"
   ]
  },
  {
   "cell_type": "code",
   "execution_count": 36,
   "metadata": {
    "pycharm": {
     "is_executing": true
    }
   },
   "outputs": [
    {
     "data": {
      "text/plain": [
       "(True, True)"
      ]
     },
     "execution_count": 36,
     "metadata": {},
     "output_type": "execute_result"
    }
   ],
   "source": [
    "import pandas as pd\n",
    "from datetime import datetime\n",
    "import spacy\n",
    "import spacy_transformers\n",
    "from spacy.tokens import DocBin\n",
    "import torch\n",
    "from transformers import RobertaTokenizer, RobertaForSequenceClassification\n",
    "from datasets import load_dataset\n",
    "import nl_core_news_sm\n",
    "import re\n",
    "import numpy as np\n",
    "torch.cuda.is_available(), spacy.prefer_gpu()"
   ]
  },
  {
   "cell_type": "code",
   "execution_count": 3,
   "metadata": {},
   "outputs": [
    {
     "name": "stderr",
     "output_type": "stream",
     "text": [
      "Reusing dataset dutch_social (C:\\Users\\Emiel\\.cache\\huggingface\\datasets\\dutch_social\\dutch_social\\1.1.0\\4ec8e931ab57f4a4483ad4b418676a45a7f6fec1cf6506da7d99c97259f7e02f)\n"
     ]
    },
    {
     "data": {
      "application/vnd.jupyter.widget-view+json": {
       "model_id": "b97c349989fb48e790e26590d88ba18c",
       "version_major": 2,
       "version_minor": 0
      },
      "text/plain": [
       "  0%|          | 0/3 [00:00<?, ?it/s]"
      ]
     },
     "metadata": {},
     "output_type": "display_data"
    }
   ],
   "source": [
    "dataset = load_dataset(\"dutch_social\")\n"
   ]
  },
  {
   "cell_type": "code",
   "execution_count": 4,
   "metadata": {},
   "outputs": [],
   "source": [
    "train = pd.DataFrame(dataset['train'])\n",
    "test = pd.DataFrame(dataset['test'])"
   ]
  },
  {
   "cell_type": "code",
   "execution_count": 5,
   "metadata": {},
   "outputs": [],
   "source": [
    "train = train.sample(frac = 1)\n",
    "test = test.sample(frac = 1)"
   ]
  },
  {
   "cell_type": "code",
   "execution_count": 6,
   "metadata": {},
   "outputs": [],
   "source": [
    "train['label'] = train['label'].astype(str)\n",
    "test['label'] = test['label'].astype(str)"
   ]
  },
  {
   "cell_type": "code",
   "execution_count": 7,
   "metadata": {},
   "outputs": [
    {
     "data": {
      "text/html": [
       "<div>\n",
       "<style scoped>\n",
       "    .dataframe tbody tr th:only-of-type {\n",
       "        vertical-align: middle;\n",
       "    }\n",
       "\n",
       "    .dataframe tbody tr th {\n",
       "        vertical-align: top;\n",
       "    }\n",
       "\n",
       "    .dataframe thead th {\n",
       "        text-align: right;\n",
       "    }\n",
       "</style>\n",
       "<table border=\"1\" class=\"dataframe\">\n",
       "  <thead>\n",
       "    <tr style=\"text-align: right;\">\n",
       "      <th></th>\n",
       "      <th>full_text</th>\n",
       "      <th>text_translation</th>\n",
       "      <th>screen_name</th>\n",
       "      <th>description</th>\n",
       "      <th>desc_translation</th>\n",
       "      <th>location</th>\n",
       "      <th>weekofyear</th>\n",
       "      <th>weekday</th>\n",
       "      <th>month</th>\n",
       "      <th>year</th>\n",
       "      <th>...</th>\n",
       "      <th>latitude</th>\n",
       "      <th>longitude</th>\n",
       "      <th>altitude</th>\n",
       "      <th>province</th>\n",
       "      <th>hisco_standard</th>\n",
       "      <th>hisco_code</th>\n",
       "      <th>industry</th>\n",
       "      <th>sentiment_pattern</th>\n",
       "      <th>subjective_pattern</th>\n",
       "      <th>label</th>\n",
       "    </tr>\n",
       "  </thead>\n",
       "  <tbody>\n",
       "    <tr>\n",
       "      <th>143826</th>\n",
       "      <td>Who came up with this idea of a story.. https:...</td>\n",
       "      <td>Who came up with this idea of ​​a story .. htt...</td>\n",
       "      <td>LeeSpacey</td>\n",
       "      <td>Focus on MENA &amp; European Terrorism, Internatio...</td>\n",
       "      <td>Focus on MENA and European Terrorism, Internat...</td>\n",
       "      <td>Netherlands</td>\n",
       "      <td>5</td>\n",
       "      <td>6</td>\n",
       "      <td>2</td>\n",
       "      <td>2020</td>\n",
       "      <td>...</td>\n",
       "      <td>52.500170</td>\n",
       "      <td>5.748082</td>\n",
       "      <td>0.0</td>\n",
       "      <td>Flevoland</td>\n",
       "      <td>None</td>\n",
       "      <td>None</td>\n",
       "      <td>False</td>\n",
       "      <td>0.0000</td>\n",
       "      <td>0.00</td>\n",
       "      <td>1</td>\n",
       "    </tr>\n",
       "    <tr>\n",
       "      <th>40139</th>\n",
       "      <td>Retail and Chain manager Jan Doldersum reflect...</td>\n",
       "      <td>Retail Chain Manager and Jan Doldersum reflect...</td>\n",
       "      <td>RijkZwaan</td>\n",
       "      <td>Together with our partners, we actively want t...</td>\n",
       "      <td>Together with our partners, we want to Activel...</td>\n",
       "      <td>De Lier, The Netherlands</td>\n",
       "      <td>25</td>\n",
       "      <td>4</td>\n",
       "      <td>6</td>\n",
       "      <td>2020</td>\n",
       "      <td>...</td>\n",
       "      <td>51.974661</td>\n",
       "      <td>4.253703</td>\n",
       "      <td>0.0</td>\n",
       "      <td>Zuid-Holland</td>\n",
       "      <td>None</td>\n",
       "      <td>None</td>\n",
       "      <td>False</td>\n",
       "      <td>0.0000</td>\n",
       "      <td>0.00</td>\n",
       "      <td>1</td>\n",
       "    </tr>\n",
       "    <tr>\n",
       "      <th>113763</th>\n",
       "      <td>Ik kijk niet eens.. alleen maar leugens van @M...</td>\n",
       "      <td>I'm not even .. just lies @MinPres and @hugode...</td>\n",
       "      <td>alindak36</td>\n",
       "      <td>Zwolle, Assendorp. Al 21 jaar werkzaam bij de,...</td>\n",
       "      <td>Zwolle, Assendorp. 21 years working in the, fa...</td>\n",
       "      <td>None</td>\n",
       "      <td>36</td>\n",
       "      <td>1</td>\n",
       "      <td>9</td>\n",
       "      <td>2020</td>\n",
       "      <td>...</td>\n",
       "      <td>0.000000</td>\n",
       "      <td>0.000000</td>\n",
       "      <td>0.0</td>\n",
       "      <td>False</td>\n",
       "      <td>None</td>\n",
       "      <td>None</td>\n",
       "      <td>False</td>\n",
       "      <td>-0.0500</td>\n",
       "      <td>0.40</td>\n",
       "      <td>1</td>\n",
       "    </tr>\n",
       "    <tr>\n",
       "      <th>22040</th>\n",
       "      <td>RT @NiemandsKnegt: Achtergrondartikel in het E...</td>\n",
       "      <td>RT @NiemandsKnegt: Background article in Engli...</td>\n",
       "      <td>Raaskaldotcom</td>\n",
       "      <td>Integer | hubby &amp; papa | master studie | data ...</td>\n",
       "      <td>integer | hubby &amp; dad | master Study | data sc...</td>\n",
       "      <td>None</td>\n",
       "      <td>36</td>\n",
       "      <td>6</td>\n",
       "      <td>9</td>\n",
       "      <td>2020</td>\n",
       "      <td>...</td>\n",
       "      <td>0.000000</td>\n",
       "      <td>0.000000</td>\n",
       "      <td>0.0</td>\n",
       "      <td>False</td>\n",
       "      <td>None</td>\n",
       "      <td>None</td>\n",
       "      <td>False</td>\n",
       "      <td>0.0000</td>\n",
       "      <td>0.00</td>\n",
       "      <td>1</td>\n",
       "    </tr>\n",
       "    <tr>\n",
       "      <th>65867</th>\n",
       "      <td>Dit optimistische geluid in deze #Tegenlicht o...</td>\n",
       "      <td>This sound optimistic in this #Tegenlicht a su...</td>\n",
       "      <td>VeraBauman</td>\n",
       "      <td>Rotterdam, the Netherlands, Europe, World</td>\n",
       "      <td>Rotterdam, the Netherlands, Europe, World</td>\n",
       "      <td>Rotterdam</td>\n",
       "      <td>19</td>\n",
       "      <td>6</td>\n",
       "      <td>5</td>\n",
       "      <td>2020</td>\n",
       "      <td>...</td>\n",
       "      <td>51.922896</td>\n",
       "      <td>4.463173</td>\n",
       "      <td>0.0</td>\n",
       "      <td>Zuid-Holland</td>\n",
       "      <td>None</td>\n",
       "      <td>None</td>\n",
       "      <td>False</td>\n",
       "      <td>0.3375</td>\n",
       "      <td>0.55</td>\n",
       "      <td>2</td>\n",
       "    </tr>\n",
       "  </tbody>\n",
       "</table>\n",
       "<p>5 rows × 23 columns</p>\n",
       "</div>"
      ],
      "text/plain": [
       "                                                full_text  \\\n",
       "143826  Who came up with this idea of a story.. https:...   \n",
       "40139   Retail and Chain manager Jan Doldersum reflect...   \n",
       "113763  Ik kijk niet eens.. alleen maar leugens van @M...   \n",
       "22040   RT @NiemandsKnegt: Achtergrondartikel in het E...   \n",
       "65867   Dit optimistische geluid in deze #Tegenlicht o...   \n",
       "\n",
       "                                         text_translation    screen_name  \\\n",
       "143826  Who came up with this idea of ​​a story .. htt...      LeeSpacey   \n",
       "40139   Retail Chain Manager and Jan Doldersum reflect...      RijkZwaan   \n",
       "113763  I'm not even .. just lies @MinPres and @hugode...      alindak36   \n",
       "22040   RT @NiemandsKnegt: Background article in Engli...  Raaskaldotcom   \n",
       "65867   This sound optimistic in this #Tegenlicht a su...     VeraBauman   \n",
       "\n",
       "                                              description  \\\n",
       "143826  Focus on MENA & European Terrorism, Internatio...   \n",
       "40139   Together with our partners, we actively want t...   \n",
       "113763  Zwolle, Assendorp. Al 21 jaar werkzaam bij de,...   \n",
       "22040   Integer | hubby & papa | master studie | data ...   \n",
       "65867           Rotterdam, the Netherlands, Europe, World   \n",
       "\n",
       "                                         desc_translation  \\\n",
       "143826  Focus on MENA and European Terrorism, Internat...   \n",
       "40139   Together with our partners, we want to Activel...   \n",
       "113763  Zwolle, Assendorp. 21 years working in the, fa...   \n",
       "22040   integer | hubby & dad | master Study | data sc...   \n",
       "65867           Rotterdam, the Netherlands, Europe, World   \n",
       "\n",
       "                        location  weekofyear  weekday  month  year  ...  \\\n",
       "143826               Netherlands           5        6      2  2020  ...   \n",
       "40139   De Lier, The Netherlands          25        4      6  2020  ...   \n",
       "113763                      None          36        1      9  2020  ...   \n",
       "22040                       None          36        6      9  2020  ...   \n",
       "65867                  Rotterdam          19        6      5  2020  ...   \n",
       "\n",
       "         latitude longitude altitude      province  hisco_standard  \\\n",
       "143826  52.500170  5.748082      0.0     Flevoland            None   \n",
       "40139   51.974661  4.253703      0.0  Zuid-Holland            None   \n",
       "113763   0.000000  0.000000      0.0         False            None   \n",
       "22040    0.000000  0.000000      0.0         False            None   \n",
       "65867   51.922896  4.463173      0.0  Zuid-Holland            None   \n",
       "\n",
       "        hisco_code industry sentiment_pattern subjective_pattern  label  \n",
       "143826        None    False            0.0000               0.00      1  \n",
       "40139         None    False            0.0000               0.00      1  \n",
       "113763        None    False           -0.0500               0.40      1  \n",
       "22040         None    False            0.0000               0.00      1  \n",
       "65867         None    False            0.3375               0.55      2  \n",
       "\n",
       "[5 rows x 23 columns]"
      ]
     },
     "execution_count": 7,
     "metadata": {},
     "output_type": "execute_result"
    }
   ],
   "source": [
    "train.head()"
   ]
  },
  {
   "cell_type": "code",
   "execution_count": 8,
   "metadata": {},
   "outputs": [],
   "source": [
    "def remove_link(text):\n",
    "    return re.sub(r'https?:\\/\\/\\S*', '', text, flags=re.MULTILINE)\n",
    "\n",
    "def remove_username(text):\n",
    "    return re.sub('@[\\w]+','',text)\n",
    "\n",
    "def remove_retweet(text):\n",
    "    \n",
    "    return text.replace(\"RT : \", \"\")"
   ]
  },
  {
   "cell_type": "code",
   "execution_count": 9,
   "metadata": {},
   "outputs": [],
   "source": [
    "train['full_text'] = train['full_text'].apply(lambda x: remove_link(x))\n",
    "test['full_text'] = test['full_text'].apply(lambda x: remove_link(x))\n",
    "\n",
    "train['full_text'] = train['full_text'].apply(lambda x: remove_username(x))\n",
    "test['full_text'] = test['full_text'].apply(lambda x: remove_username(x))\n",
    "\n",
    "train['full_text'] = train['full_text'].apply(lambda x: remove_retweet(x))\n",
    "test['full_text'] = test['full_text'].apply(lambda x: remove_retweet(x))"
   ]
  },
  {
   "cell_type": "code",
   "execution_count": 10,
   "metadata": {},
   "outputs": [
    {
     "data": {
      "text/plain": [
       "['Hoezo namens de hele bevolking!  #viruswaanzin is domheid troef! #nietnamensmij! Ik doneer plasma om het #coronavirus te hel…',\n",
       " 'Een Amerikaspecialist die meer reizen binnen Europa gaat aanbieden?Toerisme wordt nooit meer wat het was voor corona,stelt…',\n",
       " 'Today my son was cornered at school by kids who wanted to “test” him for #Coronavirus just because he is half-Chinese. The…',\n",
       " 'De grootste crisis sinds de Tweede Wereldoorlog maar niemand weet wie wanneer moet ingrijpen. Goede analyse door …',\n",
       " 'Wanneer gaan we het over MIS-C hebben?\\n\\nCDC\\nFor Parents: Multisystem Inflammatory Syndrome in Children (MIS-C) associated with…',\n",
       " 'Kijk op   naar #caringfarmer en  oprichter  over corona, Kipster en kansen:  ',\n",
       " 'Bij een rit van het ziekenhuis naar revalidatiecentrum met de ambulance stond de familie van een #COVID19 patiënt op veilig…',\n",
       " '   Je vroeg naar ebola toch? Dat is overdraagbaar na fysiek contact met een met ebola en echt ziek persoon. Daarin verschillen virussen in eigenschappen. Mondkapjes hebben dan geen zin. Lockdown ook daar vaak geweest, om virus te isoleren als menselijk gedrag  oncontroleerbaar was.',\n",
       " 'Neen  #Coronavirus is niet een linkse complot',\n",
       " '\"During his 16-minute briefing -- which he ended claiming he had to take an \\'emergency phone call\\' -- Trump also said he fe…']"
      ]
     },
     "execution_count": 10,
     "metadata": {},
     "output_type": "execute_result"
    }
   ],
   "source": [
    "list(train['full_text'])[50:60]"
   ]
  },
  {
   "cell_type": "code",
   "execution_count": 11,
   "metadata": {},
   "outputs": [],
   "source": [
    "train_zip = list(zip(train['full_text'], train['label']))"
   ]
  },
  {
   "cell_type": "code",
   "execution_count": 12,
   "metadata": {},
   "outputs": [],
   "source": [
    "test_zip = list(zip(test['full_text'], test['label']))"
   ]
  },
  {
   "cell_type": "code",
   "execution_count": 13,
   "metadata": {
    "pycharm": {
     "is_executing": true
    }
   },
   "outputs": [
    {
     "name": "stdout",
     "output_type": "stream",
     "text": [
      "Requirement already satisfied: spacy in c:\\users\\emiel\\appdata\\roaming\\python\\python39\\site-packages (3.2.4)\n",
      "Requirement already satisfied: numpy>=1.15.0 in c:\\users\\emiel\\anaconda3\\envs\\torchgpu\\lib\\site-packages (from spacy) (1.22.3)\n",
      "Requirement already satisfied: typer<0.5.0,>=0.3.0 in c:\\users\\emiel\\anaconda3\\envs\\torchgpu\\lib\\site-packages (from spacy) (0.4.1)\n",
      "Requirement already satisfied: murmurhash<1.1.0,>=0.28.0 in c:\\users\\emiel\\anaconda3\\envs\\torchgpu\\lib\\site-packages (from spacy) (1.0.6)\n",
      "Requirement already satisfied: srsly<3.0.0,>=2.4.1 in c:\\users\\emiel\\anaconda3\\envs\\torchgpu\\lib\\site-packages (from spacy) (2.4.2)\n",
      "Requirement already satisfied: cymem<2.1.0,>=2.0.2 in c:\\users\\emiel\\anaconda3\\envs\\torchgpu\\lib\\site-packages (from spacy) (2.0.6)\n",
      "Requirement already satisfied: wasabi<1.1.0,>=0.8.1 in c:\\users\\emiel\\anaconda3\\envs\\torchgpu\\lib\\site-packages (from spacy) (0.9.1)\n",
      "Requirement already satisfied: blis<0.8.0,>=0.4.0 in c:\\users\\emiel\\anaconda3\\envs\\torchgpu\\lib\\site-packages (from spacy) (0.7.7)\n",
      "Requirement already satisfied: spacy-loggers<2.0.0,>=1.0.0 in c:\\users\\emiel\\anaconda3\\envs\\torchgpu\\lib\\site-packages (from spacy) (1.0.2)\n",
      "Requirement already satisfied: spacy-legacy<3.1.0,>=3.0.8 in c:\\users\\emiel\\anaconda3\\envs\\torchgpu\\lib\\site-packages (from spacy) (3.0.9)\n",
      "Requirement already satisfied: catalogue<2.1.0,>=2.0.6 in c:\\users\\emiel\\anaconda3\\envs\\torchgpu\\lib\\site-packages (from spacy) (2.0.7)\n",
      "Requirement already satisfied: requests<3.0.0,>=2.13.0 in c:\\users\\emiel\\anaconda3\\envs\\torchgpu\\lib\\site-packages (from spacy) (2.27.1)\n",
      "Requirement already satisfied: tqdm<5.0.0,>=4.38.0 in c:\\users\\emiel\\anaconda3\\envs\\torchgpu\\lib\\site-packages (from spacy) (4.64.0)\n",
      "Requirement already satisfied: setuptools in c:\\users\\emiel\\anaconda3\\envs\\torchgpu\\lib\\site-packages (from spacy) (62.0.0)\n",
      "Requirement already satisfied: langcodes<4.0.0,>=3.2.0 in c:\\users\\emiel\\anaconda3\\envs\\torchgpu\\lib\\site-packages (from spacy) (3.3.0)\n",
      "Requirement already satisfied: packaging>=20.0 in c:\\users\\emiel\\anaconda3\\envs\\torchgpu\\lib\\site-packages (from spacy) (21.3)\n",
      "Requirement already satisfied: pydantic!=1.8,!=1.8.1,<1.9.0,>=1.7.4 in c:\\users\\emiel\\anaconda3\\envs\\torchgpu\\lib\\site-packages (from spacy) (1.8.2)\n",
      "Requirement already satisfied: preshed<3.1.0,>=3.0.2 in c:\\users\\emiel\\anaconda3\\envs\\torchgpu\\lib\\site-packages (from spacy) (3.0.6)\n",
      "Requirement already satisfied: jinja2 in c:\\users\\emiel\\anaconda3\\envs\\torchgpu\\lib\\site-packages (from spacy) (3.1.1)\n",
      "Requirement already satisfied: pathy>=0.3.5 in c:\\users\\emiel\\anaconda3\\envs\\torchgpu\\lib\\site-packages (from spacy) (0.6.1)\n",
      "Requirement already satisfied: thinc<8.1.0,>=8.0.12 in c:\\users\\emiel\\anaconda3\\envs\\torchgpu\\lib\\site-packages (from spacy) (8.0.15)\n",
      "Requirement already satisfied: click<8.1.0 in c:\\users\\emiel\\anaconda3\\envs\\torchgpu\\lib\\site-packages (from spacy) (8.0.4)\n",
      "Requirement already satisfied: colorama in c:\\users\\emiel\\anaconda3\\envs\\torchgpu\\lib\\site-packages (from click<8.1.0->spacy) (0.4.4)\n",
      "Requirement already satisfied: pyparsing!=3.0.5,>=2.0.2 in c:\\users\\emiel\\anaconda3\\envs\\torchgpu\\lib\\site-packages (from packaging>=20.0->spacy) (3.0.7)\n",
      "Requirement already satisfied: smart-open<6.0.0,>=5.0.0 in c:\\users\\emiel\\anaconda3\\envs\\torchgpu\\lib\\site-packages (from pathy>=0.3.5->spacy) (5.2.1)\n",
      "Requirement already satisfied: typing-extensions>=3.7.4.3 in c:\\users\\emiel\\anaconda3\\envs\\torchgpu\\lib\\site-packages (from pydantic!=1.8,!=1.8.1,<1.9.0,>=1.7.4->spacy) (4.1.1)\n",
      "Requirement already satisfied: idna<4,>=2.5 in c:\\users\\emiel\\anaconda3\\envs\\torchgpu\\lib\\site-packages (from requests<3.0.0,>=2.13.0->spacy) (3.3)\n",
      "Requirement already satisfied: charset-normalizer~=2.0.0 in c:\\users\\emiel\\anaconda3\\envs\\torchgpu\\lib\\site-packages (from requests<3.0.0,>=2.13.0->spacy) (2.0.12)\n",
      "Requirement already satisfied: certifi>=2017.4.17 in c:\\users\\emiel\\anaconda3\\envs\\torchgpu\\lib\\site-packages (from requests<3.0.0,>=2.13.0->spacy) (2021.10.8)\n",
      "Requirement already satisfied: urllib3<1.27,>=1.21.1 in c:\\users\\emiel\\anaconda3\\envs\\torchgpu\\lib\\site-packages (from requests<3.0.0,>=2.13.0->spacy) (1.26.9)\n",
      "Requirement already satisfied: MarkupSafe>=2.0 in c:\\users\\emiel\\anaconda3\\envs\\torchgpu\\lib\\site-packages (from jinja2->spacy) (2.1.1)\n",
      "Requirement already satisfied: spacy-transformers in c:\\users\\emiel\\anaconda3\\envs\\torchgpu\\lib\\site-packages (1.1.5)\n",
      "Requirement already satisfied: transformers<4.18.0,>=3.4.0 in c:\\users\\emiel\\appdata\\roaming\\python\\python39\\site-packages (from spacy-transformers) (4.17.0)\n",
      "Requirement already satisfied: srsly<3.0.0,>=2.4.0 in c:\\users\\emiel\\anaconda3\\envs\\torchgpu\\lib\\site-packages (from spacy-transformers) (2.4.2)\n",
      "Requirement already satisfied: spacy-alignments<1.0.0,>=0.7.2 in c:\\users\\emiel\\appdata\\roaming\\python\\python39\\site-packages (from spacy-transformers) (0.8.5)\n",
      "Requirement already satisfied: torch>=1.6.0 in c:\\users\\emiel\\anaconda3\\envs\\torchgpu\\lib\\site-packages (from spacy-transformers) (1.11.0+cu113)\n",
      "Requirement already satisfied: spacy<4.0.0,>=3.1.3 in c:\\users\\emiel\\appdata\\roaming\\python\\python39\\site-packages (from spacy-transformers) (3.2.4)\n",
      "Requirement already satisfied: spacy-loggers<2.0.0,>=1.0.0 in c:\\users\\emiel\\anaconda3\\envs\\torchgpu\\lib\\site-packages (from spacy<4.0.0,>=3.1.3->spacy-transformers) (1.0.2)\n",
      "Requirement already satisfied: langcodes<4.0.0,>=3.2.0 in c:\\users\\emiel\\anaconda3\\envs\\torchgpu\\lib\\site-packages (from spacy<4.0.0,>=3.1.3->spacy-transformers) (3.3.0)\n",
      "Requirement already satisfied: requests<3.0.0,>=2.13.0 in c:\\users\\emiel\\anaconda3\\envs\\torchgpu\\lib\\site-packages (from spacy<4.0.0,>=3.1.3->spacy-transformers) (2.27.1)\n",
      "Requirement already satisfied: numpy>=1.15.0 in c:\\users\\emiel\\anaconda3\\envs\\torchgpu\\lib\\site-packages (from spacy<4.0.0,>=3.1.3->spacy-transformers) (1.22.3)\n",
      "Requirement already satisfied: click<8.1.0 in c:\\users\\emiel\\anaconda3\\envs\\torchgpu\\lib\\site-packages (from spacy<4.0.0,>=3.1.3->spacy-transformers) (8.0.4)\n",
      "Requirement already satisfied: jinja2 in c:\\users\\emiel\\anaconda3\\envs\\torchgpu\\lib\\site-packages (from spacy<4.0.0,>=3.1.3->spacy-transformers) (3.1.1)\n",
      "Requirement already satisfied: setuptools in c:\\users\\emiel\\anaconda3\\envs\\torchgpu\\lib\\site-packages (from spacy<4.0.0,>=3.1.3->spacy-transformers) (62.0.0)\n",
      "Requirement already satisfied: thinc<8.1.0,>=8.0.12 in c:\\users\\emiel\\anaconda3\\envs\\torchgpu\\lib\\site-packages (from spacy<4.0.0,>=3.1.3->spacy-transformers) (8.0.15)\n",
      "Requirement already satisfied: catalogue<2.1.0,>=2.0.6 in c:\\users\\emiel\\anaconda3\\envs\\torchgpu\\lib\\site-packages (from spacy<4.0.0,>=3.1.3->spacy-transformers) (2.0.7)\n",
      "Requirement already satisfied: wasabi<1.1.0,>=0.8.1 in c:\\users\\emiel\\anaconda3\\envs\\torchgpu\\lib\\site-packages (from spacy<4.0.0,>=3.1.3->spacy-transformers) (0.9.1)\n",
      "Requirement already satisfied: tqdm<5.0.0,>=4.38.0 in c:\\users\\emiel\\anaconda3\\envs\\torchgpu\\lib\\site-packages (from spacy<4.0.0,>=3.1.3->spacy-transformers) (4.64.0)\n",
      "Requirement already satisfied: blis<0.8.0,>=0.4.0 in c:\\users\\emiel\\anaconda3\\envs\\torchgpu\\lib\\site-packages (from spacy<4.0.0,>=3.1.3->spacy-transformers) (0.7.7)\n",
      "Requirement already satisfied: packaging>=20.0 in c:\\users\\emiel\\anaconda3\\envs\\torchgpu\\lib\\site-packages (from spacy<4.0.0,>=3.1.3->spacy-transformers) (21.3)\n",
      "Requirement already satisfied: typer<0.5.0,>=0.3.0 in c:\\users\\emiel\\anaconda3\\envs\\torchgpu\\lib\\site-packages (from spacy<4.0.0,>=3.1.3->spacy-transformers) (0.4.1)\n",
      "Requirement already satisfied: pydantic!=1.8,!=1.8.1,<1.9.0,>=1.7.4 in c:\\users\\emiel\\anaconda3\\envs\\torchgpu\\lib\\site-packages (from spacy<4.0.0,>=3.1.3->spacy-transformers) (1.8.2)\n",
      "Requirement already satisfied: spacy-legacy<3.1.0,>=3.0.8 in c:\\users\\emiel\\anaconda3\\envs\\torchgpu\\lib\\site-packages (from spacy<4.0.0,>=3.1.3->spacy-transformers) (3.0.9)\n",
      "Requirement already satisfied: murmurhash<1.1.0,>=0.28.0 in c:\\users\\emiel\\anaconda3\\envs\\torchgpu\\lib\\site-packages (from spacy<4.0.0,>=3.1.3->spacy-transformers) (1.0.6)\n",
      "Requirement already satisfied: preshed<3.1.0,>=3.0.2 in c:\\users\\emiel\\anaconda3\\envs\\torchgpu\\lib\\site-packages (from spacy<4.0.0,>=3.1.3->spacy-transformers) (3.0.6)\n",
      "Requirement already satisfied: cymem<2.1.0,>=2.0.2 in c:\\users\\emiel\\anaconda3\\envs\\torchgpu\\lib\\site-packages (from spacy<4.0.0,>=3.1.3->spacy-transformers) (2.0.6)\n",
      "Requirement already satisfied: pathy>=0.3.5 in c:\\users\\emiel\\anaconda3\\envs\\torchgpu\\lib\\site-packages (from spacy<4.0.0,>=3.1.3->spacy-transformers) (0.6.1)\n",
      "Requirement already satisfied: typing-extensions in c:\\users\\emiel\\anaconda3\\envs\\torchgpu\\lib\\site-packages (from torch>=1.6.0->spacy-transformers) (4.1.1)\n",
      "Requirement already satisfied: sacremoses in c:\\users\\emiel\\anaconda3\\envs\\torchgpu\\lib\\site-packages (from transformers<4.18.0,>=3.4.0->spacy-transformers) (0.0.49)\n",
      "Requirement already satisfied: filelock in c:\\users\\emiel\\anaconda3\\envs\\torchgpu\\lib\\site-packages (from transformers<4.18.0,>=3.4.0->spacy-transformers) (3.6.0)\n",
      "Requirement already satisfied: pyyaml>=5.1 in c:\\users\\emiel\\anaconda3\\envs\\torchgpu\\lib\\site-packages (from transformers<4.18.0,>=3.4.0->spacy-transformers) (6.0)\n",
      "Requirement already satisfied: tokenizers!=0.11.3,>=0.11.1 in c:\\users\\emiel\\anaconda3\\envs\\torchgpu\\lib\\site-packages (from transformers<4.18.0,>=3.4.0->spacy-transformers) (0.11.6)\n",
      "Requirement already satisfied: regex!=2019.12.17 in c:\\users\\emiel\\anaconda3\\envs\\torchgpu\\lib\\site-packages (from transformers<4.18.0,>=3.4.0->spacy-transformers) (2022.3.15)\n",
      "Requirement already satisfied: huggingface-hub<1.0,>=0.1.0 in c:\\users\\emiel\\anaconda3\\envs\\torchgpu\\lib\\site-packages (from transformers<4.18.0,>=3.4.0->spacy-transformers) (0.5.1)\n",
      "Requirement already satisfied: colorama in c:\\users\\emiel\\anaconda3\\envs\\torchgpu\\lib\\site-packages (from click<8.1.0->spacy<4.0.0,>=3.1.3->spacy-transformers) (0.4.4)\n",
      "Requirement already satisfied: pyparsing!=3.0.5,>=2.0.2 in c:\\users\\emiel\\anaconda3\\envs\\torchgpu\\lib\\site-packages (from packaging>=20.0->spacy<4.0.0,>=3.1.3->spacy-transformers) (3.0.7)\n",
      "Requirement already satisfied: smart-open<6.0.0,>=5.0.0 in c:\\users\\emiel\\anaconda3\\envs\\torchgpu\\lib\\site-packages (from pathy>=0.3.5->spacy<4.0.0,>=3.1.3->spacy-transformers) (5.2.1)\n",
      "Requirement already satisfied: certifi>=2017.4.17 in c:\\users\\emiel\\anaconda3\\envs\\torchgpu\\lib\\site-packages (from requests<3.0.0,>=2.13.0->spacy<4.0.0,>=3.1.3->spacy-transformers) (2021.10.8)\n",
      "Requirement already satisfied: idna<4,>=2.5 in c:\\users\\emiel\\anaconda3\\envs\\torchgpu\\lib\\site-packages (from requests<3.0.0,>=2.13.0->spacy<4.0.0,>=3.1.3->spacy-transformers) (3.3)\n",
      "Requirement already satisfied: charset-normalizer~=2.0.0 in c:\\users\\emiel\\anaconda3\\envs\\torchgpu\\lib\\site-packages (from requests<3.0.0,>=2.13.0->spacy<4.0.0,>=3.1.3->spacy-transformers) (2.0.12)\n",
      "Requirement already satisfied: urllib3<1.27,>=1.21.1 in c:\\users\\emiel\\anaconda3\\envs\\torchgpu\\lib\\site-packages (from requests<3.0.0,>=2.13.0->spacy<4.0.0,>=3.1.3->spacy-transformers) (1.26.9)\n",
      "Requirement already satisfied: MarkupSafe>=2.0 in c:\\users\\emiel\\anaconda3\\envs\\torchgpu\\lib\\site-packages (from jinja2->spacy<4.0.0,>=3.1.3->spacy-transformers) (2.1.1)\n",
      "Requirement already satisfied: joblib in c:\\users\\emiel\\anaconda3\\envs\\torchgpu\\lib\\site-packages (from sacremoses->transformers<4.18.0,>=3.4.0->spacy-transformers) (1.1.0)\n",
      "Requirement already satisfied: six in c:\\users\\emiel\\anaconda3\\envs\\torchgpu\\lib\\site-packages (from sacremoses->transformers<4.18.0,>=3.4.0->spacy-transformers) (1.16.0)\n"
     ]
    }
   ],
   "source": [
    "!pip install spacy\n",
    "!pip install spacy-transformers"
   ]
  },
  {
   "cell_type": "code",
   "execution_count": 14,
   "metadata": {
    "pycharm": {
     "is_executing": true
    }
   },
   "outputs": [],
   "source": [
    "nlp=spacy.load(\"nl_core_news_sm\")"
   ]
  },
  {
   "cell_type": "code",
   "execution_count": 15,
   "metadata": {},
   "outputs": [],
   "source": [
    "def document(data):\n",
    "  text = []\n",
    "  for doc, label in nlp.pipe(data, as_tuples = True):\n",
    "    if (label=='0'):\n",
    "      doc.cats['0'] = 1\n",
    "      doc.cats['1'] = 0\n",
    "      doc.cats['2']  = 0\n",
    "    elif (label=='1'):\n",
    "      doc.cats['0'] = 0\n",
    "      doc.cats['1'] = 1\n",
    "      doc.cats['2']  = 0\n",
    "    elif (label=='2'):\n",
    "      doc.cats['0'] = 0\n",
    "      doc.cats['1'] = 0\n",
    "      doc.cats['2']  = 1\n",
    "    text.append(doc)\n",
    "  \n",
    "  return(text)"
   ]
  },
  {
   "cell_type": "code",
   "execution_count": 16,
   "metadata": {},
   "outputs": [],
   "source": [
    "train_docs = document(train_zip)\n",
    "doc_bin = DocBin(docs = train_docs)\n",
    "doc_bin.to_disk(\"train.spacy\")\n"
   ]
  },
  {
   "cell_type": "code",
   "execution_count": 17,
   "metadata": {},
   "outputs": [],
   "source": [
    "test_docs = document(test_zip)\n",
    "doc_bin = DocBin(docs = test_docs)\n",
    "doc_bin.to_disk(\"valid.spacy\")\n"
   ]
  },
  {
   "cell_type": "code",
   "execution_count": 18,
   "metadata": {
    "pycharm": {
     "is_executing": true
    }
   },
   "outputs": [
    {
     "name": "stdout",
     "output_type": "stream",
     "text": [
      "[+] Auto-filled config with all values\n",
      "[+] Saved config\n",
      "config.cfg\n",
      "You can now add your data and train your pipeline:\n",
      "python -m spacy train config.cfg --paths.train ./train.spacy --paths.dev ./dev.spacy\n"
     ]
    }
   ],
   "source": [
    "!python -m spacy init fill-config ./base_config.cfg ./config.cfg\n"
   ]
  },
  {
   "cell_type": "code",
   "execution_count": 19,
   "metadata": {
    "pycharm": {
     "is_executing": true
    }
   },
   "outputs": [
    {
     "name": "stdout",
     "output_type": "stream",
     "text": [
      "[i] Saving to output directory: output_updated\n",
      "[i] Using GPU: 0\n",
      "\u001B[1m\n",
      "=========================== Initializing pipeline ===========================\u001B[0m\n",
      "[+] Initialized pipeline\n",
      "\u001B[1m\n",
      "============================= Training pipeline =============================\u001B[0m\n",
      "[i] Pipeline: ['textcat']\n",
      "[i] Initial learn rate: 0.001\n",
      "E    #       LOSS TEXTCAT  CATS_SCORE  SCORE \n",
      "---  ------  ------------  ----------  ------\n",
      "  0       0          0.17        0.00    0.00\n",
      "  0     100          5.20       16.20    0.16\n",
      "  0     200          4.64       21.23    0.21\n",
      "  0     300          2.85       24.93    0.25\n",
      "  0     400          4.49       31.87    0.32\n",
      "  0     500          3.35       36.70    0.37\n",
      "  0     600          3.86       41.13    0.41\n",
      "  0     700          2.45       46.73    0.47\n",
      "  0     800          2.90       48.05    0.48\n",
      "  0     900          3.13       51.12    0.51\n",
      "  0    1000          4.18       54.03    0.54\n",
      "  0    1100          3.37       56.12    0.56\n",
      "  0    1200          3.36       56.50    0.57\n",
      "  0    1300          3.55       58.51    0.59\n",
      "  0    1400          3.54       59.51    0.60\n",
      "  0    1500          2.84       61.11    0.61\n",
      "  0    1600          2.28       60.13    0.60\n",
      "  0    1700          1.87       62.84    0.63\n",
      "  0    1800          2.23       65.08    0.65\n",
      "  0    1900          5.05       63.88    0.64\n",
      "  0    2000          3.13       66.22    0.66\n",
      "  0    2100          3.32       66.89    0.67\n",
      "  0    2200          0.76       66.29    0.66\n",
      "  0    2300          2.84       68.28    0.68\n",
      "  0    2400          4.30       69.64    0.70\n",
      "[+] Saved pipeline to output directory\n",
      "output_updated\\model-last\n",
      "Duration: 0:21:45.028143\n"
     ]
    },
    {
     "name": "stderr",
     "output_type": "stream",
     "text": [
      "[2022-04-10 17:08:09,656] [INFO] Set up nlp object from config\n",
      "[2022-04-10 17:08:09,660] [DEBUG] Loading corpus from path: valid.spacy\n",
      "[2022-04-10 17:08:09,661] [DEBUG] Loading corpus from path: train.spacy\n",
      "[2022-04-10 17:08:09,661] [INFO] Pipeline: ['textcat']\n",
      "[2022-04-10 17:08:09,663] [INFO] Created vocabulary\n",
      "[2022-04-10 17:08:09,663] [INFO] Finished initializing nlp object\n",
      "[2022-04-10 17:09:50,942] [INFO] Initialized pipeline components: ['textcat']\n",
      "[2022-04-10 17:09:50,946] [DEBUG] Loading corpus from path: valid.spacy\n",
      "[2022-04-10 17:09:50,947] [DEBUG] Loading corpus from path: train.spacy\n",
      "[2022-04-10 17:09:50,949] [DEBUG] Removed existing output directory: output_updated\\model-best\n",
      "[2022-04-10 17:09:50,950] [DEBUG] Removed existing output directory: output_updated\\model-last\n"
     ]
    }
   ],
   "source": [
    "start_time = datetime.now()\n",
    "\n",
    "!python -m spacy train config.cfg --verbose  --gpu-id 0 --output ./output_updated\n",
    "\n",
    "end_time = datetime.now()\n",
    "\n",
    "print('Duration: {}'.format(end_time - start_time))"
   ]
  },
  {
   "cell_type": "code",
   "execution_count": 37,
   "metadata": {},
   "outputs": [],
   "source": [
    "convert_dict = {0:'negatief', 1:'neutraal', 2:'positief'}"
   ]
  },
  {
   "cell_type": "code",
   "execution_count": 38,
   "metadata": {
    "pycharm": {
     "is_executing": true
    }
   },
   "outputs": [
    {
     "name": "stdout",
     "output_type": "stream",
     "text": [
      "positief\n"
     ]
    }
   ],
   "source": [
    "#Test the data from the best model\n",
    "nlp = spacy.load(\"output_updated/model-best\")\n",
    "demo = nlp(\"goed gedaan makker\")\n",
    "print(convert_dict[np.argmax(list(demo.cats.values()))])"
   ]
  },
  {
   "cell_type": "code",
   "execution_count": 39,
   "metadata": {},
   "outputs": [
    {
     "name": "stdout",
     "output_type": "stream",
     "text": [
      "negatief\n"
     ]
    }
   ],
   "source": [
    "#Test the data from the best model\n",
    "nlp = spacy.load(\"output_updated/model-best\")\n",
    "demo = nlp(\"dat heb je bijzonder slecht gedaan, idioot\")\n",
    "print(convert_dict[np.argmax(list(demo.cats.values()))])"
   ]
  },
  {
   "cell_type": "code",
   "execution_count": null,
   "metadata": {},
   "outputs": [],
   "source": []
  }
 ],
 "metadata": {
  "kernelspec": {
   "display_name": "Python 3 (ipykernel)",
   "language": "python",
   "name": "python3"
  },
  "language_info": {
   "codemirror_mode": {
    "name": "ipython",
    "version": 3
   },
   "file_extension": ".py",
   "mimetype": "text/x-python",
   "name": "python",
   "nbconvert_exporter": "python",
   "pygments_lexer": "ipython3",
   "version": "3.9.0"
  }
 },
 "nbformat": 4,
 "nbformat_minor": 1
}