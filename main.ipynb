{
 "cells": [
  {
   "cell_type": "code",
   "execution_count": 1,
   "metadata": {},
   "outputs": [
    {
     "name": "stdout",
     "output_type": "stream",
     "text": [
      "Requirement already satisfied: spacy in c:\\users\\emiel\\anaconda3\\envs\\tf-ml\\lib\\site-packages (3.2.4)\n",
      "Requirement already satisfied: jinja2 in c:\\users\\emiel\\anaconda3\\envs\\tf-ml\\lib\\site-packages (from spacy) (3.0.3)\n",
      "Requirement already satisfied: cymem<2.1.0,>=2.0.2 in c:\\users\\emiel\\anaconda3\\envs\\tf-ml\\lib\\site-packages (from spacy) (2.0.6)\n",
      "Requirement already satisfied: thinc<8.1.0,>=8.0.12 in c:\\users\\emiel\\anaconda3\\envs\\tf-ml\\lib\\site-packages (from spacy) (8.0.15)\n",
      "Requirement already satisfied: packaging>=20.0 in c:\\users\\emiel\\anaconda3\\envs\\tf-ml\\lib\\site-packages (from spacy) (21.3)\n",
      "Requirement already satisfied: preshed<3.1.0,>=3.0.2 in c:\\users\\emiel\\anaconda3\\envs\\tf-ml\\lib\\site-packages (from spacy) (3.0.6)\n",
      "Requirement already satisfied: click<8.1.0 in c:\\users\\emiel\\anaconda3\\envs\\tf-ml\\lib\\site-packages (from spacy) (8.0.4)\n",
      "Requirement already satisfied: pydantic!=1.8,!=1.8.1,<1.9.0,>=1.7.4 in c:\\users\\emiel\\anaconda3\\envs\\tf-ml\\lib\\site-packages (from spacy) (1.8.2)\n",
      "Requirement already satisfied: blis<0.8.0,>=0.4.0 in c:\\users\\emiel\\anaconda3\\envs\\tf-ml\\lib\\site-packages (from spacy) (0.7.7)\n",
      "Requirement already satisfied: numpy>=1.15.0 in c:\\users\\emiel\\anaconda3\\envs\\tf-ml\\lib\\site-packages (from spacy) (1.22.3)\n",
      "Requirement already satisfied: murmurhash<1.1.0,>=0.28.0 in c:\\users\\emiel\\anaconda3\\envs\\tf-ml\\lib\\site-packages (from spacy) (1.0.6)\n",
      "Requirement already satisfied: langcodes<4.0.0,>=3.2.0 in c:\\users\\emiel\\anaconda3\\envs\\tf-ml\\lib\\site-packages (from spacy) (3.3.0)\n",
      "Requirement already satisfied: typer<0.5.0,>=0.3.0 in c:\\users\\emiel\\anaconda3\\envs\\tf-ml\\lib\\site-packages (from spacy) (0.4.1)\n",
      "Requirement already satisfied: setuptools in c:\\users\\emiel\\anaconda3\\envs\\tf-ml\\lib\\site-packages (from spacy) (62.0.0)\n",
      "Requirement already satisfied: spacy-loggers<2.0.0,>=1.0.0 in c:\\users\\emiel\\anaconda3\\envs\\tf-ml\\lib\\site-packages (from spacy) (1.0.2)\n",
      "Requirement already satisfied: requests<3.0.0,>=2.13.0 in c:\\users\\emiel\\anaconda3\\envs\\tf-ml\\lib\\site-packages (from spacy) (2.27.1)\n",
      "Requirement already satisfied: srsly<3.0.0,>=2.4.1 in c:\\users\\emiel\\anaconda3\\envs\\tf-ml\\lib\\site-packages (from spacy) (2.4.2)\n",
      "Requirement already satisfied: spacy-legacy<3.1.0,>=3.0.8 in c:\\users\\emiel\\anaconda3\\envs\\tf-ml\\lib\\site-packages (from spacy) (3.0.9)\n",
      "Requirement already satisfied: tqdm<5.0.0,>=4.38.0 in c:\\users\\emiel\\anaconda3\\envs\\tf-ml\\lib\\site-packages (from spacy) (4.63.1)\n",
      "Requirement already satisfied: catalogue<2.1.0,>=2.0.6 in c:\\users\\emiel\\anaconda3\\envs\\tf-ml\\lib\\site-packages (from spacy) (2.0.7)\n",
      "Requirement already satisfied: wasabi<1.1.0,>=0.8.1 in c:\\users\\emiel\\anaconda3\\envs\\tf-ml\\lib\\site-packages (from spacy) (0.9.1)\n",
      "Requirement already satisfied: pathy>=0.3.5 in c:\\users\\emiel\\anaconda3\\envs\\tf-ml\\lib\\site-packages (from spacy) (0.6.1)\n",
      "Requirement already satisfied: colorama in c:\\users\\emiel\\anaconda3\\envs\\tf-ml\\lib\\site-packages (from click<8.1.0->spacy) (0.4.4)\n",
      "Requirement already satisfied: pyparsing!=3.0.5,>=2.0.2 in c:\\users\\emiel\\anaconda3\\envs\\tf-ml\\lib\\site-packages (from packaging>=20.0->spacy) (3.0.4)\n",
      "Requirement already satisfied: smart-open<6.0.0,>=5.0.0 in c:\\users\\emiel\\anaconda3\\envs\\tf-ml\\lib\\site-packages (from pathy>=0.3.5->spacy) (5.2.1)\n",
      "Requirement already satisfied: typing-extensions>=3.7.4.3 in c:\\users\\emiel\\anaconda3\\envs\\tf-ml\\lib\\site-packages (from pydantic!=1.8,!=1.8.1,<1.9.0,>=1.7.4->spacy) (4.1.1)\n",
      "Requirement already satisfied: idna<4,>=2.5 in c:\\users\\emiel\\anaconda3\\envs\\tf-ml\\lib\\site-packages (from requests<3.0.0,>=2.13.0->spacy) (3.3)\n",
      "Requirement already satisfied: certifi>=2017.4.17 in c:\\users\\emiel\\anaconda3\\envs\\tf-ml\\lib\\site-packages (from requests<3.0.0,>=2.13.0->spacy) (2021.5.30)\n",
      "Requirement already satisfied: urllib3<1.27,>=1.21.1 in c:\\users\\emiel\\anaconda3\\envs\\tf-ml\\lib\\site-packages (from requests<3.0.0,>=2.13.0->spacy) (1.26.9)\n",
      "Requirement already satisfied: charset-normalizer~=2.0.0 in c:\\users\\emiel\\anaconda3\\envs\\tf-ml\\lib\\site-packages (from requests<3.0.0,>=2.13.0->spacy) (2.0.12)\n",
      "Requirement already satisfied: MarkupSafe>=2.0 in c:\\users\\emiel\\anaconda3\\envs\\tf-ml\\lib\\site-packages (from jinja2->spacy) (2.0.1)\n",
      "Requirement already satisfied: spacy-transformers in c:\\users\\emiel\\anaconda3\\envs\\tf-ml\\lib\\site-packages (1.1.5)\n",
      "Requirement already satisfied: spacy<4.0.0,>=3.1.3 in c:\\users\\emiel\\anaconda3\\envs\\tf-ml\\lib\\site-packages (from spacy-transformers) (3.2.4)\n",
      "Requirement already satisfied: torch>=1.6.0 in c:\\users\\emiel\\anaconda3\\envs\\tf-ml\\lib\\site-packages (from spacy-transformers) (1.11.0)\n",
      "Requirement already satisfied: transformers<4.18.0,>=3.4.0 in c:\\users\\emiel\\anaconda3\\envs\\tf-ml\\lib\\site-packages (from spacy-transformers) (4.17.0)\n",
      "Requirement already satisfied: spacy-alignments<1.0.0,>=0.7.2 in c:\\users\\emiel\\anaconda3\\envs\\tf-ml\\lib\\site-packages (from spacy-transformers) (0.8.5)\n",
      "Requirement already satisfied: srsly<3.0.0,>=2.4.0 in c:\\users\\emiel\\anaconda3\\envs\\tf-ml\\lib\\site-packages (from spacy-transformers) (2.4.2)\n",
      "Requirement already satisfied: blis<0.8.0,>=0.4.0 in c:\\users\\emiel\\anaconda3\\envs\\tf-ml\\lib\\site-packages (from spacy<4.0.0,>=3.1.3->spacy-transformers) (0.7.7)\n",
      "Requirement already satisfied: pydantic!=1.8,!=1.8.1,<1.9.0,>=1.7.4 in c:\\users\\emiel\\anaconda3\\envs\\tf-ml\\lib\\site-packages (from spacy<4.0.0,>=3.1.3->spacy-transformers) (1.8.2)\n",
      "Requirement already satisfied: preshed<3.1.0,>=3.0.2 in c:\\users\\emiel\\anaconda3\\envs\\tf-ml\\lib\\site-packages (from spacy<4.0.0,>=3.1.3->spacy-transformers) (3.0.6)\n",
      "Requirement already satisfied: catalogue<2.1.0,>=2.0.6 in c:\\users\\emiel\\anaconda3\\envs\\tf-ml\\lib\\site-packages (from spacy<4.0.0,>=3.1.3->spacy-transformers) (2.0.7)\n",
      "Requirement already satisfied: setuptools in c:\\users\\emiel\\anaconda3\\envs\\tf-ml\\lib\\site-packages (from spacy<4.0.0,>=3.1.3->spacy-transformers) (62.0.0)\n",
      "Requirement already satisfied: cymem<2.1.0,>=2.0.2 in c:\\users\\emiel\\anaconda3\\envs\\tf-ml\\lib\\site-packages (from spacy<4.0.0,>=3.1.3->spacy-transformers) (2.0.6)\n",
      "Requirement already satisfied: pathy>=0.3.5 in c:\\users\\emiel\\anaconda3\\envs\\tf-ml\\lib\\site-packages (from spacy<4.0.0,>=3.1.3->spacy-transformers) (0.6.1)\n",
      "Requirement already satisfied: wasabi<1.1.0,>=0.8.1 in c:\\users\\emiel\\anaconda3\\envs\\tf-ml\\lib\\site-packages (from spacy<4.0.0,>=3.1.3->spacy-transformers) (0.9.1)\n",
      "Requirement already satisfied: tqdm<5.0.0,>=4.38.0 in c:\\users\\emiel\\anaconda3\\envs\\tf-ml\\lib\\site-packages (from spacy<4.0.0,>=3.1.3->spacy-transformers) (4.63.1)\n",
      "Requirement already satisfied: numpy>=1.15.0 in c:\\users\\emiel\\anaconda3\\envs\\tf-ml\\lib\\site-packages (from spacy<4.0.0,>=3.1.3->spacy-transformers) (1.22.3)\n",
      "Requirement already satisfied: typer<0.5.0,>=0.3.0 in c:\\users\\emiel\\anaconda3\\envs\\tf-ml\\lib\\site-packages (from spacy<4.0.0,>=3.1.3->spacy-transformers) (0.4.1)\n",
      "Requirement already satisfied: requests<3.0.0,>=2.13.0 in c:\\users\\emiel\\anaconda3\\envs\\tf-ml\\lib\\site-packages (from spacy<4.0.0,>=3.1.3->spacy-transformers) (2.27.1)\n",
      "Requirement already satisfied: spacy-loggers<2.0.0,>=1.0.0 in c:\\users\\emiel\\anaconda3\\envs\\tf-ml\\lib\\site-packages (from spacy<4.0.0,>=3.1.3->spacy-transformers) (1.0.2)\n",
      "Requirement already satisfied: langcodes<4.0.0,>=3.2.0 in c:\\users\\emiel\\anaconda3\\envs\\tf-ml\\lib\\site-packages (from spacy<4.0.0,>=3.1.3->spacy-transformers) (3.3.0)\n",
      "Requirement already satisfied: click<8.1.0 in c:\\users\\emiel\\anaconda3\\envs\\tf-ml\\lib\\site-packages (from spacy<4.0.0,>=3.1.3->spacy-transformers) (8.0.4)\n",
      "Requirement already satisfied: jinja2 in c:\\users\\emiel\\anaconda3\\envs\\tf-ml\\lib\\site-packages (from spacy<4.0.0,>=3.1.3->spacy-transformers) (3.0.3)\n",
      "Requirement already satisfied: packaging>=20.0 in c:\\users\\emiel\\anaconda3\\envs\\tf-ml\\lib\\site-packages (from spacy<4.0.0,>=3.1.3->spacy-transformers) (21.3)\n",
      "Requirement already satisfied: murmurhash<1.1.0,>=0.28.0 in c:\\users\\emiel\\anaconda3\\envs\\tf-ml\\lib\\site-packages (from spacy<4.0.0,>=3.1.3->spacy-transformers) (1.0.6)\n",
      "Requirement already satisfied: spacy-legacy<3.1.0,>=3.0.8 in c:\\users\\emiel\\anaconda3\\envs\\tf-ml\\lib\\site-packages (from spacy<4.0.0,>=3.1.3->spacy-transformers) (3.0.9)\n",
      "Requirement already satisfied: thinc<8.1.0,>=8.0.12 in c:\\users\\emiel\\anaconda3\\envs\\tf-ml\\lib\\site-packages (from spacy<4.0.0,>=3.1.3->spacy-transformers) (8.0.15)\n",
      "Requirement already satisfied: typing-extensions in c:\\users\\emiel\\anaconda3\\envs\\tf-ml\\lib\\site-packages (from torch>=1.6.0->spacy-transformers) (4.1.1)\n",
      "Requirement already satisfied: filelock in c:\\users\\emiel\\anaconda3\\envs\\tf-ml\\lib\\site-packages (from transformers<4.18.0,>=3.4.0->spacy-transformers) (3.6.0)\n",
      "Requirement already satisfied: huggingface-hub<1.0,>=0.1.0 in c:\\users\\emiel\\anaconda3\\envs\\tf-ml\\lib\\site-packages (from transformers<4.18.0,>=3.4.0->spacy-transformers) (0.4.0)\n",
      "Requirement already satisfied: regex!=2019.12.17 in c:\\users\\emiel\\anaconda3\\envs\\tf-ml\\lib\\site-packages (from transformers<4.18.0,>=3.4.0->spacy-transformers) (2022.3.15)\n",
      "Requirement already satisfied: sacremoses in c:\\users\\emiel\\anaconda3\\envs\\tf-ml\\lib\\site-packages (from transformers<4.18.0,>=3.4.0->spacy-transformers) (0.0.49)\n",
      "Requirement already satisfied: pyyaml>=5.1 in c:\\users\\emiel\\anaconda3\\envs\\tf-ml\\lib\\site-packages (from transformers<4.18.0,>=3.4.0->spacy-transformers) (6.0)\n",
      "Requirement already satisfied: tokenizers!=0.11.3,>=0.11.1 in c:\\users\\emiel\\anaconda3\\envs\\tf-ml\\lib\\site-packages (from transformers<4.18.0,>=3.4.0->spacy-transformers) (0.11.6)\n",
      "Requirement already satisfied: colorama in c:\\users\\emiel\\anaconda3\\envs\\tf-ml\\lib\\site-packages (from click<8.1.0->spacy<4.0.0,>=3.1.3->spacy-transformers) (0.4.4)\n",
      "Requirement already satisfied: pyparsing!=3.0.5,>=2.0.2 in c:\\users\\emiel\\anaconda3\\envs\\tf-ml\\lib\\site-packages (from packaging>=20.0->spacy<4.0.0,>=3.1.3->spacy-transformers) (3.0.4)\n",
      "Requirement already satisfied: smart-open<6.0.0,>=5.0.0 in c:\\users\\emiel\\anaconda3\\envs\\tf-ml\\lib\\site-packages (from pathy>=0.3.5->spacy<4.0.0,>=3.1.3->spacy-transformers) (5.2.1)\n",
      "Requirement already satisfied: idna<4,>=2.5 in c:\\users\\emiel\\anaconda3\\envs\\tf-ml\\lib\\site-packages (from requests<3.0.0,>=2.13.0->spacy<4.0.0,>=3.1.3->spacy-transformers) (3.3)\n",
      "Requirement already satisfied: charset-normalizer~=2.0.0 in c:\\users\\emiel\\anaconda3\\envs\\tf-ml\\lib\\site-packages (from requests<3.0.0,>=2.13.0->spacy<4.0.0,>=3.1.3->spacy-transformers) (2.0.12)\n",
      "Requirement already satisfied: certifi>=2017.4.17 in c:\\users\\emiel\\anaconda3\\envs\\tf-ml\\lib\\site-packages (from requests<3.0.0,>=2.13.0->spacy<4.0.0,>=3.1.3->spacy-transformers) (2021.5.30)\n",
      "Requirement already satisfied: urllib3<1.27,>=1.21.1 in c:\\users\\emiel\\anaconda3\\envs\\tf-ml\\lib\\site-packages (from requests<3.0.0,>=2.13.0->spacy<4.0.0,>=3.1.3->spacy-transformers) (1.26.9)\n",
      "Requirement already satisfied: MarkupSafe>=2.0 in c:\\users\\emiel\\anaconda3\\envs\\tf-ml\\lib\\site-packages (from jinja2->spacy<4.0.0,>=3.1.3->spacy-transformers) (2.0.1)\n",
      "Requirement already satisfied: joblib in c:\\users\\emiel\\anaconda3\\envs\\tf-ml\\lib\\site-packages (from sacremoses->transformers<4.18.0,>=3.4.0->spacy-transformers) (1.1.0)\n",
      "Requirement already satisfied: six in c:\\users\\emiel\\anaconda3\\envs\\tf-ml\\lib\\site-packages (from sacremoses->transformers<4.18.0,>=3.4.0->spacy-transformers) (1.16.0)\n"
     ]
    }
   ],
   "source": [
    "# Installing Spacy library\n",
    "\n",
    "!pip install spacy\n",
    "!pip install spacy-transformers"
   ]
  },
  {
   "cell_type": "code",
   "execution_count": 2,
   "metadata": {},
   "outputs": [],
   "source": [
    "import spacy\n"
   ]
  },
  {
   "cell_type": "code",
   "execution_count": 3,
   "metadata": {
    "pycharm": {
     "is_executing": true
    }
   },
   "outputs": [
    {
     "name": "stdout",
     "output_type": "stream",
     "text": [
      "Collecting en-core-web-lg==3.2.0\n",
      "  Downloading https://github.com/explosion/spacy-models/releases/download/en_core_web_lg-3.2.0/en_core_web_lg-3.2.0-py3-none-any.whl (777.4 MB)\n",
      "     -------------------------------------- 777.4/777.4 MB 4.5 MB/s eta 0:00:00\n",
      "Requirement already satisfied: spacy<3.3.0,>=3.2.0 in c:\\users\\emiel\\anaconda3\\envs\\tf-ml\\lib\\site-packages (from en-core-web-lg==3.2.0) (3.2.4)\n",
      "Requirement already satisfied: requests<3.0.0,>=2.13.0 in c:\\users\\emiel\\anaconda3\\envs\\tf-ml\\lib\\site-packages (from spacy<3.3.0,>=3.2.0->en-core-web-lg==3.2.0) (2.27.1)\n",
      "Requirement already satisfied: wasabi<1.1.0,>=0.8.1 in c:\\users\\emiel\\anaconda3\\envs\\tf-ml\\lib\\site-packages (from spacy<3.3.0,>=3.2.0->en-core-web-lg==3.2.0) (0.9.1)\n",
      "Requirement already satisfied: murmurhash<1.1.0,>=0.28.0 in c:\\users\\emiel\\anaconda3\\envs\\tf-ml\\lib\\site-packages (from spacy<3.3.0,>=3.2.0->en-core-web-lg==3.2.0) (1.0.6)\n",
      "Requirement already satisfied: click<8.1.0 in c:\\users\\emiel\\anaconda3\\envs\\tf-ml\\lib\\site-packages (from spacy<3.3.0,>=3.2.0->en-core-web-lg==3.2.0) (8.0.4)\n",
      "Requirement already satisfied: cymem<2.1.0,>=2.0.2 in c:\\users\\emiel\\anaconda3\\envs\\tf-ml\\lib\\site-packages (from spacy<3.3.0,>=3.2.0->en-core-web-lg==3.2.0) (2.0.6)\n",
      "Requirement already satisfied: tqdm<5.0.0,>=4.38.0 in c:\\users\\emiel\\anaconda3\\envs\\tf-ml\\lib\\site-packages (from spacy<3.3.0,>=3.2.0->en-core-web-lg==3.2.0) (4.63.1)\n",
      "Requirement already satisfied: pathy>=0.3.5 in c:\\users\\emiel\\anaconda3\\envs\\tf-ml\\lib\\site-packages (from spacy<3.3.0,>=3.2.0->en-core-web-lg==3.2.0) (0.6.1)\n",
      "Requirement already satisfied: preshed<3.1.0,>=3.0.2 in c:\\users\\emiel\\anaconda3\\envs\\tf-ml\\lib\\site-packages (from spacy<3.3.0,>=3.2.0->en-core-web-lg==3.2.0) (3.0.6)\n",
      "Requirement already satisfied: blis<0.8.0,>=0.4.0 in c:\\users\\emiel\\anaconda3\\envs\\tf-ml\\lib\\site-packages (from spacy<3.3.0,>=3.2.0->en-core-web-lg==3.2.0) (0.7.7)\n",
      "Requirement already satisfied: spacy-loggers<2.0.0,>=1.0.0 in c:\\users\\emiel\\anaconda3\\envs\\tf-ml\\lib\\site-packages (from spacy<3.3.0,>=3.2.0->en-core-web-lg==3.2.0) (1.0.2)\n",
      "Requirement already satisfied: thinc<8.1.0,>=8.0.12 in c:\\users\\emiel\\anaconda3\\envs\\tf-ml\\lib\\site-packages (from spacy<3.3.0,>=3.2.0->en-core-web-lg==3.2.0) (8.0.15)\n",
      "Requirement already satisfied: setuptools in c:\\users\\emiel\\anaconda3\\envs\\tf-ml\\lib\\site-packages (from spacy<3.3.0,>=3.2.0->en-core-web-lg==3.2.0) (62.0.0)\n",
      "Requirement already satisfied: packaging>=20.0 in c:\\users\\emiel\\anaconda3\\envs\\tf-ml\\lib\\site-packages (from spacy<3.3.0,>=3.2.0->en-core-web-lg==3.2.0) (21.3)\n",
      "Requirement already satisfied: jinja2 in c:\\users\\emiel\\anaconda3\\envs\\tf-ml\\lib\\site-packages (from spacy<3.3.0,>=3.2.0->en-core-web-lg==3.2.0) (3.0.3)\n",
      "Requirement already satisfied: srsly<3.0.0,>=2.4.1 in c:\\users\\emiel\\anaconda3\\envs\\tf-ml\\lib\\site-packages (from spacy<3.3.0,>=3.2.0->en-core-web-lg==3.2.0) (2.4.2)\n",
      "Requirement already satisfied: pydantic!=1.8,!=1.8.1,<1.9.0,>=1.7.4 in c:\\users\\emiel\\anaconda3\\envs\\tf-ml\\lib\\site-packages (from spacy<3.3.0,>=3.2.0->en-core-web-lg==3.2.0) (1.8.2)\n",
      "Requirement already satisfied: catalogue<2.1.0,>=2.0.6 in c:\\users\\emiel\\anaconda3\\envs\\tf-ml\\lib\\site-packages (from spacy<3.3.0,>=3.2.0->en-core-web-lg==3.2.0) (2.0.7)\n",
      "Requirement already satisfied: typer<0.5.0,>=0.3.0 in c:\\users\\emiel\\anaconda3\\envs\\tf-ml\\lib\\site-packages (from spacy<3.3.0,>=3.2.0->en-core-web-lg==3.2.0) (0.4.1)\n",
      "Requirement already satisfied: langcodes<4.0.0,>=3.2.0 in c:\\users\\emiel\\anaconda3\\envs\\tf-ml\\lib\\site-packages (from spacy<3.3.0,>=3.2.0->en-core-web-lg==3.2.0) (3.3.0)\n",
      "Requirement already satisfied: numpy>=1.15.0 in c:\\users\\emiel\\anaconda3\\envs\\tf-ml\\lib\\site-packages (from spacy<3.3.0,>=3.2.0->en-core-web-lg==3.2.0) (1.22.3)\n",
      "Requirement already satisfied: spacy-legacy<3.1.0,>=3.0.8 in c:\\users\\emiel\\anaconda3\\envs\\tf-ml\\lib\\site-packages (from spacy<3.3.0,>=3.2.0->en-core-web-lg==3.2.0) (3.0.9)\n",
      "Requirement already satisfied: colorama in c:\\users\\emiel\\anaconda3\\envs\\tf-ml\\lib\\site-packages (from click<8.1.0->spacy<3.3.0,>=3.2.0->en-core-web-lg==3.2.0) (0.4.4)\n",
      "Requirement already satisfied: pyparsing!=3.0.5,>=2.0.2 in c:\\users\\emiel\\anaconda3\\envs\\tf-ml\\lib\\site-packages (from packaging>=20.0->spacy<3.3.0,>=3.2.0->en-core-web-lg==3.2.0) (3.0.4)\n",
      "Requirement already satisfied: smart-open<6.0.0,>=5.0.0 in c:\\users\\emiel\\anaconda3\\envs\\tf-ml\\lib\\site-packages (from pathy>=0.3.5->spacy<3.3.0,>=3.2.0->en-core-web-lg==3.2.0) (5.2.1)\n",
      "Requirement already satisfied: typing-extensions>=3.7.4.3 in c:\\users\\emiel\\anaconda3\\envs\\tf-ml\\lib\\site-packages (from pydantic!=1.8,!=1.8.1,<1.9.0,>=1.7.4->spacy<3.3.0,>=3.2.0->en-core-web-lg==3.2.0) (4.1.1)\n",
      "Requirement already satisfied: certifi>=2017.4.17 in c:\\users\\emiel\\anaconda3\\envs\\tf-ml\\lib\\site-packages (from requests<3.0.0,>=2.13.0->spacy<3.3.0,>=3.2.0->en-core-web-lg==3.2.0) (2021.5.30)\n",
      "Requirement already satisfied: idna<4,>=2.5 in c:\\users\\emiel\\anaconda3\\envs\\tf-ml\\lib\\site-packages (from requests<3.0.0,>=2.13.0->spacy<3.3.0,>=3.2.0->en-core-web-lg==3.2.0) (3.3)\n",
      "Requirement already satisfied: urllib3<1.27,>=1.21.1 in c:\\users\\emiel\\anaconda3\\envs\\tf-ml\\lib\\site-packages (from requests<3.0.0,>=2.13.0->spacy<3.3.0,>=3.2.0->en-core-web-lg==3.2.0) (1.26.9)\n",
      "Requirement already satisfied: charset-normalizer~=2.0.0 in c:\\users\\emiel\\anaconda3\\envs\\tf-ml\\lib\\site-packages (from requests<3.0.0,>=2.13.0->spacy<3.3.0,>=3.2.0->en-core-web-lg==3.2.0) (2.0.12)\n",
      "Requirement already satisfied: MarkupSafe>=2.0 in c:\\users\\emiel\\anaconda3\\envs\\tf-ml\\lib\\site-packages (from jinja2->spacy<3.3.0,>=3.2.0->en-core-web-lg==3.2.0) (2.0.1)\n",
      "[+] Download and installation successful\n",
      "You can now load the package via spacy.load('en_core_web_lg')\n"
     ]
    }
   ],
   "source": [
    "!python -m spacy download en_core_web_lg\n"
   ]
  },
  {
   "cell_type": "code",
   "execution_count": 4,
   "metadata": {
    "pycharm": {
     "is_executing": true
    }
   },
   "outputs": [],
   "source": [
    "# Importing libraries\n",
    "\n",
    "import pandas as pd\n",
    "from datetime import datetime\n",
    "import spacy\n",
    "import spacy_transformers\n",
    "\n",
    "# Storing docs in binary format\n",
    "from spacy.tokens import DocBin"
   ]
  },
  {
   "cell_type": "code",
   "execution_count": 5,
   "metadata": {},
   "outputs": [
    {
     "data": {
      "text/plain": [
       "False"
      ]
     },
     "execution_count": 5,
     "metadata": {},
     "output_type": "execute_result"
    }
   ],
   "source": [
    "import torch\n",
    "\n",
    "torch.cuda.is_available()"
   ]
  },
  {
   "cell_type": "code",
   "execution_count": 6,
   "metadata": {
    "pycharm": {
     "is_executing": true
    }
   },
   "outputs": [],
   "source": [
    "# Reading the dataset\n",
    "df = pd.read_csv(\"all-data.csv\", encoding='latin-1', header = None)\n",
    "df = df.rename(columns = {0:'Sentiment', 1:'Text'})"
   ]
  },
  {
   "cell_type": "code",
   "execution_count": 7,
   "metadata": {
    "pycharm": {
     "is_executing": true
    }
   },
   "outputs": [],
   "source": [
    "train = df.sample(frac = 0.8, random_state = 25)\n",
    "test = df.drop(train.index)"
   ]
  },
  {
   "cell_type": "code",
   "execution_count": 8,
   "metadata": {
    "pycharm": {
     "is_executing": true
    }
   },
   "outputs": [],
   "source": [
    "nlp=spacy.load(\"en_core_web_lg\")\n"
   ]
  },
  {
   "cell_type": "code",
   "execution_count": 9,
   "metadata": {
    "pycharm": {
     "is_executing": true
    }
   },
   "outputs": [],
   "source": [
    "train['tuples'] = train.apply(lambda row: (row['Text'],row['Sentiment']), axis=1)\n",
    "train = train['tuples'].tolist()"
   ]
  },
  {
   "cell_type": "code",
   "execution_count": 10,
   "metadata": {
    "pycharm": {
     "is_executing": true
    }
   },
   "outputs": [],
   "source": [
    "test['tuples'] = test.apply(lambda row: (row['Text'],row['Sentiment']), axis=1)\n",
    "test = test['tuples'].tolist()"
   ]
  },
  {
   "cell_type": "code",
   "execution_count": 11,
   "metadata": {
    "pycharm": {
     "is_executing": true
    }
   },
   "outputs": [],
   "source": [
    "def document(data):\n",
    "  text = []\n",
    "  for doc, label in nlp.pipe(data, as_tuples = True):\n",
    "    if (label=='positive'):\n",
    "      doc.cats['positive'] = 1\n",
    "      doc.cats['negative'] = 0\n",
    "      doc.cats['neutral']  = 0\n",
    "    elif (label=='negative'):\n",
    "      doc.cats['positive'] = 0\n",
    "      doc.cats['negative'] = 1\n",
    "      doc.cats['neutral']  = 0\n",
    "    else:\n",
    "      doc.cats['positive'] = 0\n",
    "      doc.cats['negative'] = 0\n",
    "      doc.cats['neutral']  = 1\n",
    "    text.append(doc)\n",
    "  \n",
    "  return(text)"
   ]
  },
  {
   "cell_type": "code",
   "execution_count": 12,
   "metadata": {
    "pycharm": {
     "is_executing": true
    }
   },
   "outputs": [
    {
     "name": "stdout",
     "output_type": "stream",
     "text": [
      "Duration: 0:00:08.911136\n"
     ]
    }
   ],
   "source": [
    "start_time = datetime.now()\n",
    "\n",
    "#passing the train dataset into function 'document'\n",
    "train_docs = document(train)\n",
    "\n",
    "#Creating binary document using DocBin function in spaCy\n",
    "doc_bin = DocBin(docs = train_docs)\n",
    "\n",
    "#Saving the binary document as train.spacy\n",
    "doc_bin.to_disk(\"train.spacy\")\n",
    "end_time = datetime.now()\n",
    "\n",
    "#Printing the time duration for train dataset\n",
    "print('Duration: {}'.format(end_time - start_time))"
   ]
  },
  {
   "cell_type": "code",
   "execution_count": 13,
   "metadata": {
    "pycharm": {
     "is_executing": true
    }
   },
   "outputs": [
    {
     "name": "stdout",
     "output_type": "stream",
     "text": [
      "Duration: 0:00:02.109677\n"
     ]
    }
   ],
   "source": [
    "# Calculate the time for converting into binary document for test dataset\n",
    "\n",
    "start_time = datetime.now()\n",
    "\n",
    "#passing the test dataset into function 'document'\n",
    "test_docs = document(test)\n",
    "doc_bin = DocBin(docs = test_docs)\n",
    "doc_bin.to_disk(\"valid.spacy\")\n",
    "end_time = datetime.now()\n",
    "\n",
    "#Printing the time duration for test dataset\n",
    "print('Duration: {}'.format(end_time - start_time))"
   ]
  },
  {
   "cell_type": "code",
   "execution_count": 17,
   "metadata": {
    "pycharm": {
     "is_executing": true
    }
   },
   "outputs": [
    {
     "name": "stdout",
     "output_type": "stream",
     "text": [
      "[+] Auto-filled config with all values\n",
      "[+] Saved config\n",
      "config.cfg\n",
      "You can now add your data and train your pipeline:\n",
      "python -m spacy train config.cfg --paths.train ./train.spacy --paths.dev ./dev.spacy\n"
     ]
    }
   ],
   "source": [
    "!python -m spacy init fill-config ./base_config.cfg ./config.cfg\n"
   ]
  },
  {
   "cell_type": "code",
   "execution_count": 18,
   "metadata": {
    "pycharm": {
     "is_executing": true
    }
   },
   "outputs": [
    {
     "name": "stdout",
     "output_type": "stream",
     "text": [
      "[i] Saving to output directory: output_updated\n",
      "[i] Using CPU\n",
      "\u001B[1m\n",
      "=========================== Initializing pipeline ===========================\u001B[0m\n",
      "[+] Initialized pipeline\n",
      "\u001B[1m\n",
      "============================= Training pipeline =============================\u001B[0m\n",
      "[i] Pipeline: ['tok2vec', 'textcat']\n",
      "[i] Initial learn rate: 0.001\n",
      "E    #       LOSS TOK2VEC  LOSS TEXTCAT  CATS_SCORE  SCORE \n",
      "---  ------  ------------  ------------  ----------  ------\n",
      "  0       0          0.00          0.04        0.00    0.00\n",
      "  0     200          1.45          8.46       24.52    0.25\n",
      "  0     400          1.36          5.82       24.42    0.24\n",
      "  0     600          1.17          2.94       41.54    0.42\n",
      "  1     800          1.07          1.73       42.86    0.43\n",
      "  1    1000          1.50          0.97       63.71    0.64\n",
      "  2    1200          0.57          0.51       63.01    0.63\n",
      "  3    1400          1.31          0.26       69.91    0.70\n",
      "  4    1600          1.39          0.14       73.26    0.73\n",
      "  5    1800          2.67          0.07       71.82    0.72\n",
      "  6    2000          2.74          0.04       65.78    0.66\n",
      "  8    2200          3.76          0.03       70.17    0.70\n",
      " 10    2400          4.11          0.01       65.75    0.66\n",
      " 12    2600         11.28          0.01       70.16    0.70\n",
      " 14    2800         13.02          0.01       68.26    0.68\n",
      " 16    3000         13.70          0.01       69.02    0.69\n",
      " 18    3200         22.08          0.01       72.75    0.73\n",
      "[+] Saved pipeline to output directory\n",
      "output_updated\\model-last\n",
      "Duration: 0:22:37.455098\n"
     ]
    },
    {
     "name": "stderr",
     "output_type": "stream",
     "text": [
      "[2022-04-10 00:01:23,168] [INFO] Set up nlp object from config\n",
      "[2022-04-10 00:01:23,174] [DEBUG] Loading corpus from path: valid.spacy\n",
      "[2022-04-10 00:01:23,175] [DEBUG] Loading corpus from path: train.spacy\n",
      "[2022-04-10 00:01:23,175] [INFO] Pipeline: ['tok2vec', 'textcat']\n",
      "[2022-04-10 00:01:23,178] [INFO] Created vocabulary\n",
      "[2022-04-10 00:01:24,073] [INFO] Added vectors: en_core_web_lg\n",
      "[2022-04-10 00:01:24,974] [INFO] Finished initializing nlp object\n",
      "[2022-04-10 00:01:29,350] [INFO] Initialized pipeline components: ['tok2vec', 'textcat']\n",
      "[2022-04-10 00:01:29,357] [DEBUG] Loading corpus from path: valid.spacy\n",
      "[2022-04-10 00:01:29,358] [DEBUG] Loading corpus from path: train.spacy\n",
      "[2022-04-10 00:01:29,403] [DEBUG] Removed existing output directory: output_updated\\model-last\n"
     ]
    }
   ],
   "source": [
    "start_time = datetime.now()\n",
    "\n",
    "!python -m spacy train config.cfg --verbose --output ./output_updated\n",
    "\n",
    "end_time = datetime.now()\n",
    "\n",
    "print('Duration: {}'.format(end_time - start_time))"
   ]
  },
  {
   "cell_type": "code",
   "execution_count": 33,
   "metadata": {
    "pycharm": {
     "is_executing": true
    }
   },
   "outputs": [
    {
     "name": "stdout",
     "output_type": "stream",
     "text": [
      "{'positive': 0.977059543132782, 'negative': 0.0011022855760529637, 'neutral': 0.021838193759322166}\n"
     ]
    }
   ],
   "source": [
    "#Test the data from the best model\n",
    "nlp = spacy.load(\"output_updated/model-best\")\n",
    "demo = nlp(\"Adjusted for changes in the Group structure , the Division 's net sales increased by 1.7 % .\")\n",
    "print(demo.cats)"
   ]
  },
  {
   "cell_type": "code",
   "execution_count": 20,
   "metadata": {
    "pycharm": {
     "is_executing": true
    }
   },
   "outputs": [
    {
     "data": {
      "text/plain": [
       "False"
      ]
     },
     "execution_count": 20,
     "metadata": {},
     "output_type": "execute_result"
    }
   ],
   "source": [
    "import torch\n",
    "\n",
    "torch.cuda.is_available()"
   ]
  },
  {
   "cell_type": "code",
   "execution_count": null,
   "metadata": {},
   "outputs": [],
   "source": []
  }
 ],
 "metadata": {
  "kernelspec": {
   "display_name": "Python 3 (ipykernel)",
   "language": "python",
   "name": "python3"
  },
  "language_info": {
   "codemirror_mode": {
    "name": "ipython",
    "version": 3
   },
   "file_extension": ".py",
   "mimetype": "text/x-python",
   "name": "python",
   "nbconvert_exporter": "python",
   "pygments_lexer": "ipython3",
   "version": "3.10.0"
  }
 },
 "nbformat": 4,
 "nbformat_minor": 1
}