{
 "cells": [
  {
   "cell_type": "code",
   "execution_count": 61,
   "metadata": {},
   "outputs": [
    {
     "data": {
      "text/plain": [
       "(True, True)"
      ]
     },
     "execution_count": 61,
     "metadata": {},
     "output_type": "execute_result"
    }
   ],
   "source": [
    "import pandas as pd\n",
    "from datetime import datetime\n",
    "import spacy\n",
    "import spacy_transformers\n",
    "from spacy.tokens import DocBin\n",
    "import torch\n",
    "from transformers import RobertaTokenizer, RobertaForSequenceClassification\n",
    "torch.cuda.is_available(), spacy.prefer_gpu()"
   ]
  },
  {
   "cell_type": "code",
   "execution_count": 48,
   "metadata": {
    "pycharm": {
     "is_executing": true
    }
   },
   "outputs": [
    {
     "name": "stdout",
     "output_type": "stream",
     "text": [
      "Requirement already satisfied: spacy in c:\\users\\emiel\\appdata\\roaming\\python\\python39\\site-packages (3.2.4)\n",
      "Requirement already satisfied: pathy>=0.3.5 in c:\\users\\emiel\\anaconda3\\envs\\torchgpu\\lib\\site-packages (from spacy) (0.6.1)\n",
      "Requirement already satisfied: requests<3.0.0,>=2.13.0 in c:\\users\\emiel\\anaconda3\\envs\\torchgpu\\lib\\site-packages (from spacy) (2.27.1)\n",
      "Requirement already satisfied: srsly<3.0.0,>=2.4.1 in c:\\users\\emiel\\anaconda3\\envs\\torchgpu\\lib\\site-packages (from spacy) (2.4.2)\n",
      "Requirement already satisfied: murmurhash<1.1.0,>=0.28.0 in c:\\users\\emiel\\anaconda3\\envs\\torchgpu\\lib\\site-packages (from spacy) (1.0.6)\n",
      "Requirement already satisfied: pydantic!=1.8,!=1.8.1,<1.9.0,>=1.7.4 in c:\\users\\emiel\\anaconda3\\envs\\torchgpu\\lib\\site-packages (from spacy) (1.8.2)\n",
      "Requirement already satisfied: setuptools in c:\\users\\emiel\\anaconda3\\envs\\torchgpu\\lib\\site-packages (from spacy) (62.0.0)\n",
      "Requirement already satisfied: thinc<8.1.0,>=8.0.12 in c:\\users\\emiel\\anaconda3\\envs\\torchgpu\\lib\\site-packages (from spacy) (8.0.15)\n",
      "Requirement already satisfied: blis<0.8.0,>=0.4.0 in c:\\users\\emiel\\anaconda3\\envs\\torchgpu\\lib\\site-packages (from spacy) (0.7.7)\n",
      "Requirement already satisfied: tqdm<5.0.0,>=4.38.0 in c:\\users\\emiel\\anaconda3\\envs\\torchgpu\\lib\\site-packages (from spacy) (4.64.0)\n",
      "Requirement already satisfied: preshed<3.1.0,>=3.0.2 in c:\\users\\emiel\\anaconda3\\envs\\torchgpu\\lib\\site-packages (from spacy) (3.0.6)\n",
      "Requirement already satisfied: numpy>=1.15.0 in c:\\users\\emiel\\anaconda3\\envs\\torchgpu\\lib\\site-packages (from spacy) (1.22.3)\n",
      "Requirement already satisfied: langcodes<4.0.0,>=3.2.0 in c:\\users\\emiel\\anaconda3\\envs\\torchgpu\\lib\\site-packages (from spacy) (3.3.0)\n",
      "Requirement already satisfied: typer<0.5.0,>=0.3.0 in c:\\users\\emiel\\anaconda3\\envs\\torchgpu\\lib\\site-packages (from spacy) (0.4.1)\n",
      "Requirement already satisfied: cymem<2.1.0,>=2.0.2 in c:\\users\\emiel\\anaconda3\\envs\\torchgpu\\lib\\site-packages (from spacy) (2.0.6)\n",
      "Requirement already satisfied: packaging>=20.0 in c:\\users\\emiel\\anaconda3\\envs\\torchgpu\\lib\\site-packages (from spacy) (21.3)\n",
      "Requirement already satisfied: spacy-loggers<2.0.0,>=1.0.0 in c:\\users\\emiel\\anaconda3\\envs\\torchgpu\\lib\\site-packages (from spacy) (1.0.2)\n",
      "Requirement already satisfied: spacy-legacy<3.1.0,>=3.0.8 in c:\\users\\emiel\\anaconda3\\envs\\torchgpu\\lib\\site-packages (from spacy) (3.0.9)\n",
      "Requirement already satisfied: jinja2 in c:\\users\\emiel\\anaconda3\\envs\\torchgpu\\lib\\site-packages (from spacy) (3.1.1)\n",
      "Requirement already satisfied: click<8.1.0 in c:\\users\\emiel\\anaconda3\\envs\\torchgpu\\lib\\site-packages (from spacy) (8.0.4)\n",
      "Requirement already satisfied: catalogue<2.1.0,>=2.0.6 in c:\\users\\emiel\\anaconda3\\envs\\torchgpu\\lib\\site-packages (from spacy) (2.0.7)\n",
      "Requirement already satisfied: wasabi<1.1.0,>=0.8.1 in c:\\users\\emiel\\anaconda3\\envs\\torchgpu\\lib\\site-packages (from spacy) (0.9.1)\n",
      "Requirement already satisfied: colorama in c:\\users\\emiel\\anaconda3\\envs\\torchgpu\\lib\\site-packages (from click<8.1.0->spacy) (0.4.4)\n",
      "Requirement already satisfied: pyparsing!=3.0.5,>=2.0.2 in c:\\users\\emiel\\anaconda3\\envs\\torchgpu\\lib\\site-packages (from packaging>=20.0->spacy) (3.0.7)\n",
      "Requirement already satisfied: smart-open<6.0.0,>=5.0.0 in c:\\users\\emiel\\anaconda3\\envs\\torchgpu\\lib\\site-packages (from pathy>=0.3.5->spacy) (5.2.1)\n",
      "Requirement already satisfied: typing-extensions>=3.7.4.3 in c:\\users\\emiel\\anaconda3\\envs\\torchgpu\\lib\\site-packages (from pydantic!=1.8,!=1.8.1,<1.9.0,>=1.7.4->spacy) (4.1.1)\n",
      "Requirement already satisfied: charset-normalizer~=2.0.0 in c:\\users\\emiel\\anaconda3\\envs\\torchgpu\\lib\\site-packages (from requests<3.0.0,>=2.13.0->spacy) (2.0.12)\n",
      "Requirement already satisfied: urllib3<1.27,>=1.21.1 in c:\\users\\emiel\\anaconda3\\envs\\torchgpu\\lib\\site-packages (from requests<3.0.0,>=2.13.0->spacy) (1.26.9)\n",
      "Requirement already satisfied: certifi>=2017.4.17 in c:\\users\\emiel\\anaconda3\\envs\\torchgpu\\lib\\site-packages (from requests<3.0.0,>=2.13.0->spacy) (2021.10.8)\n",
      "Requirement already satisfied: idna<4,>=2.5 in c:\\users\\emiel\\anaconda3\\envs\\torchgpu\\lib\\site-packages (from requests<3.0.0,>=2.13.0->spacy) (3.3)\n",
      "Requirement already satisfied: MarkupSafe>=2.0 in c:\\users\\emiel\\anaconda3\\envs\\torchgpu\\lib\\site-packages (from jinja2->spacy) (2.1.1)\n",
      "Requirement already satisfied: spacy-transformers in c:\\users\\emiel\\anaconda3\\envs\\torchgpu\\lib\\site-packages (1.1.5)\n",
      "Requirement already satisfied: transformers<4.18.0,>=3.4.0 in c:\\users\\emiel\\appdata\\roaming\\python\\python39\\site-packages (from spacy-transformers) (4.17.0)\n",
      "Requirement already satisfied: spacy-alignments<1.0.0,>=0.7.2 in c:\\users\\emiel\\appdata\\roaming\\python\\python39\\site-packages (from spacy-transformers) (0.8.5)\n",
      "Requirement already satisfied: srsly<3.0.0,>=2.4.0 in c:\\users\\emiel\\anaconda3\\envs\\torchgpu\\lib\\site-packages (from spacy-transformers) (2.4.2)\n",
      "Requirement already satisfied: torch>=1.6.0 in c:\\users\\emiel\\anaconda3\\envs\\torchgpu\\lib\\site-packages (from spacy-transformers) (1.11.0+cu113)\n",
      "Requirement already satisfied: spacy<4.0.0,>=3.1.3 in c:\\users\\emiel\\appdata\\roaming\\python\\python39\\site-packages (from spacy-transformers) (3.2.4)\n",
      "Requirement already satisfied: packaging>=20.0 in c:\\users\\emiel\\anaconda3\\envs\\torchgpu\\lib\\site-packages (from spacy<4.0.0,>=3.1.3->spacy-transformers) (21.3)\n",
      "Requirement already satisfied: preshed<3.1.0,>=3.0.2 in c:\\users\\emiel\\anaconda3\\envs\\torchgpu\\lib\\site-packages (from spacy<4.0.0,>=3.1.3->spacy-transformers) (3.0.6)\n",
      "Requirement already satisfied: murmurhash<1.1.0,>=0.28.0 in c:\\users\\emiel\\anaconda3\\envs\\torchgpu\\lib\\site-packages (from spacy<4.0.0,>=3.1.3->spacy-transformers) (1.0.6)\n",
      "Requirement already satisfied: setuptools in c:\\users\\emiel\\anaconda3\\envs\\torchgpu\\lib\\site-packages (from spacy<4.0.0,>=3.1.3->spacy-transformers) (62.0.0)\n",
      "Requirement already satisfied: jinja2 in c:\\users\\emiel\\anaconda3\\envs\\torchgpu\\lib\\site-packages (from spacy<4.0.0,>=3.1.3->spacy-transformers) (3.1.1)\n",
      "Requirement already satisfied: catalogue<2.1.0,>=2.0.6 in c:\\users\\emiel\\anaconda3\\envs\\torchgpu\\lib\\site-packages (from spacy<4.0.0,>=3.1.3->spacy-transformers) (2.0.7)\n",
      "Requirement already satisfied: tqdm<5.0.0,>=4.38.0 in c:\\users\\emiel\\anaconda3\\envs\\torchgpu\\lib\\site-packages (from spacy<4.0.0,>=3.1.3->spacy-transformers) (4.64.0)\n",
      "Requirement already satisfied: cymem<2.1.0,>=2.0.2 in c:\\users\\emiel\\anaconda3\\envs\\torchgpu\\lib\\site-packages (from spacy<4.0.0,>=3.1.3->spacy-transformers) (2.0.6)\n",
      "Requirement already satisfied: numpy>=1.15.0 in c:\\users\\emiel\\anaconda3\\envs\\torchgpu\\lib\\site-packages (from spacy<4.0.0,>=3.1.3->spacy-transformers) (1.22.3)\n",
      "Requirement already satisfied: langcodes<4.0.0,>=3.2.0 in c:\\users\\emiel\\anaconda3\\envs\\torchgpu\\lib\\site-packages (from spacy<4.0.0,>=3.1.3->spacy-transformers) (3.3.0)\n",
      "Requirement already satisfied: pydantic!=1.8,!=1.8.1,<1.9.0,>=1.7.4 in c:\\users\\emiel\\anaconda3\\envs\\torchgpu\\lib\\site-packages (from spacy<4.0.0,>=3.1.3->spacy-transformers) (1.8.2)\n",
      "Requirement already satisfied: blis<0.8.0,>=0.4.0 in c:\\users\\emiel\\anaconda3\\envs\\torchgpu\\lib\\site-packages (from spacy<4.0.0,>=3.1.3->spacy-transformers) (0.7.7)\n",
      "Requirement already satisfied: wasabi<1.1.0,>=0.8.1 in c:\\users\\emiel\\anaconda3\\envs\\torchgpu\\lib\\site-packages (from spacy<4.0.0,>=3.1.3->spacy-transformers) (0.9.1)\n",
      "Requirement already satisfied: spacy-legacy<3.1.0,>=3.0.8 in c:\\users\\emiel\\anaconda3\\envs\\torchgpu\\lib\\site-packages (from spacy<4.0.0,>=3.1.3->spacy-transformers) (3.0.9)\n",
      "Requirement already satisfied: thinc<8.1.0,>=8.0.12 in c:\\users\\emiel\\anaconda3\\envs\\torchgpu\\lib\\site-packages (from spacy<4.0.0,>=3.1.3->spacy-transformers) (8.0.15)\n",
      "Requirement already satisfied: spacy-loggers<2.0.0,>=1.0.0 in c:\\users\\emiel\\anaconda3\\envs\\torchgpu\\lib\\site-packages (from spacy<4.0.0,>=3.1.3->spacy-transformers) (1.0.2)\n",
      "Requirement already satisfied: typer<0.5.0,>=0.3.0 in c:\\users\\emiel\\anaconda3\\envs\\torchgpu\\lib\\site-packages (from spacy<4.0.0,>=3.1.3->spacy-transformers) (0.4.1)\n",
      "Requirement already satisfied: pathy>=0.3.5 in c:\\users\\emiel\\anaconda3\\envs\\torchgpu\\lib\\site-packages (from spacy<4.0.0,>=3.1.3->spacy-transformers) (0.6.1)\n",
      "Requirement already satisfied: requests<3.0.0,>=2.13.0 in c:\\users\\emiel\\anaconda3\\envs\\torchgpu\\lib\\site-packages (from spacy<4.0.0,>=3.1.3->spacy-transformers) (2.27.1)\n",
      "Requirement already satisfied: click<8.1.0 in c:\\users\\emiel\\anaconda3\\envs\\torchgpu\\lib\\site-packages (from spacy<4.0.0,>=3.1.3->spacy-transformers) (8.0.4)\n",
      "Requirement already satisfied: typing-extensions in c:\\users\\emiel\\anaconda3\\envs\\torchgpu\\lib\\site-packages (from torch>=1.6.0->spacy-transformers) (4.1.1)\n",
      "Requirement already satisfied: sacremoses in c:\\users\\emiel\\anaconda3\\envs\\torchgpu\\lib\\site-packages (from transformers<4.18.0,>=3.4.0->spacy-transformers) (0.0.49)\n",
      "Requirement already satisfied: regex!=2019.12.17 in c:\\users\\emiel\\anaconda3\\envs\\torchgpu\\lib\\site-packages (from transformers<4.18.0,>=3.4.0->spacy-transformers) (2022.3.15)\n",
      "Requirement already satisfied: huggingface-hub<1.0,>=0.1.0 in c:\\users\\emiel\\anaconda3\\envs\\torchgpu\\lib\\site-packages (from transformers<4.18.0,>=3.4.0->spacy-transformers) (0.5.1)\n",
      "Requirement already satisfied: pyyaml>=5.1 in c:\\users\\emiel\\anaconda3\\envs\\torchgpu\\lib\\site-packages (from transformers<4.18.0,>=3.4.0->spacy-transformers) (6.0)\n",
      "Requirement already satisfied: tokenizers!=0.11.3,>=0.11.1 in c:\\users\\emiel\\anaconda3\\envs\\torchgpu\\lib\\site-packages (from transformers<4.18.0,>=3.4.0->spacy-transformers) (0.11.6)\n",
      "Requirement already satisfied: filelock in c:\\users\\emiel\\anaconda3\\envs\\torchgpu\\lib\\site-packages (from transformers<4.18.0,>=3.4.0->spacy-transformers) (3.6.0)\n",
      "Requirement already satisfied: colorama in c:\\users\\emiel\\anaconda3\\envs\\torchgpu\\lib\\site-packages (from click<8.1.0->spacy<4.0.0,>=3.1.3->spacy-transformers) (0.4.4)\n",
      "Requirement already satisfied: pyparsing!=3.0.5,>=2.0.2 in c:\\users\\emiel\\anaconda3\\envs\\torchgpu\\lib\\site-packages (from packaging>=20.0->spacy<4.0.0,>=3.1.3->spacy-transformers) (3.0.7)\n",
      "Requirement already satisfied: smart-open<6.0.0,>=5.0.0 in c:\\users\\emiel\\anaconda3\\envs\\torchgpu\\lib\\site-packages (from pathy>=0.3.5->spacy<4.0.0,>=3.1.3->spacy-transformers) (5.2.1)\n",
      "Requirement already satisfied: idna<4,>=2.5 in c:\\users\\emiel\\anaconda3\\envs\\torchgpu\\lib\\site-packages (from requests<3.0.0,>=2.13.0->spacy<4.0.0,>=3.1.3->spacy-transformers) (3.3)\n",
      "Requirement already satisfied: urllib3<1.27,>=1.21.1 in c:\\users\\emiel\\anaconda3\\envs\\torchgpu\\lib\\site-packages (from requests<3.0.0,>=2.13.0->spacy<4.0.0,>=3.1.3->spacy-transformers) (1.26.9)\n",
      "Requirement already satisfied: certifi>=2017.4.17 in c:\\users\\emiel\\anaconda3\\envs\\torchgpu\\lib\\site-packages (from requests<3.0.0,>=2.13.0->spacy<4.0.0,>=3.1.3->spacy-transformers) (2021.10.8)\n",
      "Requirement already satisfied: charset-normalizer~=2.0.0 in c:\\users\\emiel\\anaconda3\\envs\\torchgpu\\lib\\site-packages (from requests<3.0.0,>=2.13.0->spacy<4.0.0,>=3.1.3->spacy-transformers) (2.0.12)\n",
      "Requirement already satisfied: MarkupSafe>=2.0 in c:\\users\\emiel\\anaconda3\\envs\\torchgpu\\lib\\site-packages (from jinja2->spacy<4.0.0,>=3.1.3->spacy-transformers) (2.1.1)\n",
      "Requirement already satisfied: joblib in c:\\users\\emiel\\anaconda3\\envs\\torchgpu\\lib\\site-packages (from sacremoses->transformers<4.18.0,>=3.4.0->spacy-transformers) (1.1.0)\n",
      "Requirement already satisfied: six in c:\\users\\emiel\\anaconda3\\envs\\torchgpu\\lib\\site-packages (from sacremoses->transformers<4.18.0,>=3.4.0->spacy-transformers) (1.16.0)\n"
     ]
    }
   ],
   "source": [
    "!pip install spacy\n",
    "!pip install spacy-transformers"
   ]
  },
  {
   "cell_type": "code",
   "execution_count": 49,
   "metadata": {
    "pycharm": {
     "is_executing": true
    }
   },
   "outputs": [
    {
     "name": "stdout",
     "output_type": "stream",
     "text": [
      "Collecting en-core-web-trf==3.2.0\n",
      "  Downloading https://github.com/explosion/spacy-models/releases/download/en_core_web_trf-3.2.0/en_core_web_trf-3.2.0-py3-none-any.whl (460.2 MB)\n",
      "     -------------------------------------- 460.2/460.2 MB 6.3 MB/s eta 0:00:00\n",
      "Requirement already satisfied: spacy-transformers<1.2.0,>=1.1.2 in c:\\users\\emiel\\anaconda3\\envs\\torchgpu\\lib\\site-packages (from en-core-web-trf==3.2.0) (1.1.5)\n",
      "Requirement already satisfied: spacy<3.3.0,>=3.2.0 in c:\\users\\emiel\\appdata\\roaming\\python\\python39\\site-packages (from en-core-web-trf==3.2.0) (3.2.4)\n",
      "Requirement already satisfied: preshed<3.1.0,>=3.0.2 in c:\\users\\emiel\\anaconda3\\envs\\torchgpu\\lib\\site-packages (from spacy<3.3.0,>=3.2.0->en-core-web-trf==3.2.0) (3.0.6)\n",
      "Requirement already satisfied: setuptools in c:\\users\\emiel\\anaconda3\\envs\\torchgpu\\lib\\site-packages (from spacy<3.3.0,>=3.2.0->en-core-web-trf==3.2.0) (62.0.0)\n",
      "Requirement already satisfied: pathy>=0.3.5 in c:\\users\\emiel\\anaconda3\\envs\\torchgpu\\lib\\site-packages (from spacy<3.3.0,>=3.2.0->en-core-web-trf==3.2.0) (0.6.1)\n",
      "Requirement already satisfied: wasabi<1.1.0,>=0.8.1 in c:\\users\\emiel\\anaconda3\\envs\\torchgpu\\lib\\site-packages (from spacy<3.3.0,>=3.2.0->en-core-web-trf==3.2.0) (0.9.1)\n",
      "Requirement already satisfied: numpy>=1.15.0 in c:\\users\\emiel\\anaconda3\\envs\\torchgpu\\lib\\site-packages (from spacy<3.3.0,>=3.2.0->en-core-web-trf==3.2.0) (1.22.3)\n",
      "Requirement already satisfied: typer<0.5.0,>=0.3.0 in c:\\users\\emiel\\anaconda3\\envs\\torchgpu\\lib\\site-packages (from spacy<3.3.0,>=3.2.0->en-core-web-trf==3.2.0) (0.4.1)\n",
      "Requirement already satisfied: srsly<3.0.0,>=2.4.1 in c:\\users\\emiel\\anaconda3\\envs\\torchgpu\\lib\\site-packages (from spacy<3.3.0,>=3.2.0->en-core-web-trf==3.2.0) (2.4.2)\n",
      "Requirement already satisfied: catalogue<2.1.0,>=2.0.6 in c:\\users\\emiel\\anaconda3\\envs\\torchgpu\\lib\\site-packages (from spacy<3.3.0,>=3.2.0->en-core-web-trf==3.2.0) (2.0.7)\n",
      "Requirement already satisfied: click<8.1.0 in c:\\users\\emiel\\anaconda3\\envs\\torchgpu\\lib\\site-packages (from spacy<3.3.0,>=3.2.0->en-core-web-trf==3.2.0) (8.0.4)\n",
      "Requirement already satisfied: pydantic!=1.8,!=1.8.1,<1.9.0,>=1.7.4 in c:\\users\\emiel\\anaconda3\\envs\\torchgpu\\lib\\site-packages (from spacy<3.3.0,>=3.2.0->en-core-web-trf==3.2.0) (1.8.2)\n",
      "Requirement already satisfied: jinja2 in c:\\users\\emiel\\anaconda3\\envs\\torchgpu\\lib\\site-packages (from spacy<3.3.0,>=3.2.0->en-core-web-trf==3.2.0) (3.1.1)\n",
      "Requirement already satisfied: thinc<8.1.0,>=8.0.12 in c:\\users\\emiel\\anaconda3\\envs\\torchgpu\\lib\\site-packages (from spacy<3.3.0,>=3.2.0->en-core-web-trf==3.2.0) (8.0.15)\n",
      "Requirement already satisfied: packaging>=20.0 in c:\\users\\emiel\\anaconda3\\envs\\torchgpu\\lib\\site-packages (from spacy<3.3.0,>=3.2.0->en-core-web-trf==3.2.0) (21.3)\n",
      "Requirement already satisfied: requests<3.0.0,>=2.13.0 in c:\\users\\emiel\\anaconda3\\envs\\torchgpu\\lib\\site-packages (from spacy<3.3.0,>=3.2.0->en-core-web-trf==3.2.0) (2.27.1)\n",
      "Requirement already satisfied: tqdm<5.0.0,>=4.38.0 in c:\\users\\emiel\\anaconda3\\envs\\torchgpu\\lib\\site-packages (from spacy<3.3.0,>=3.2.0->en-core-web-trf==3.2.0) (4.64.0)\n",
      "Requirement already satisfied: murmurhash<1.1.0,>=0.28.0 in c:\\users\\emiel\\anaconda3\\envs\\torchgpu\\lib\\site-packages (from spacy<3.3.0,>=3.2.0->en-core-web-trf==3.2.0) (1.0.6)\n",
      "Requirement already satisfied: cymem<2.1.0,>=2.0.2 in c:\\users\\emiel\\anaconda3\\envs\\torchgpu\\lib\\site-packages (from spacy<3.3.0,>=3.2.0->en-core-web-trf==3.2.0) (2.0.6)\n",
      "Requirement already satisfied: spacy-legacy<3.1.0,>=3.0.8 in c:\\users\\emiel\\anaconda3\\envs\\torchgpu\\lib\\site-packages (from spacy<3.3.0,>=3.2.0->en-core-web-trf==3.2.0) (3.0.9)\n",
      "Requirement already satisfied: spacy-loggers<2.0.0,>=1.0.0 in c:\\users\\emiel\\anaconda3\\envs\\torchgpu\\lib\\site-packages (from spacy<3.3.0,>=3.2.0->en-core-web-trf==3.2.0) (1.0.2)\n",
      "Requirement already satisfied: blis<0.8.0,>=0.4.0 in c:\\users\\emiel\\anaconda3\\envs\\torchgpu\\lib\\site-packages (from spacy<3.3.0,>=3.2.0->en-core-web-trf==3.2.0) (0.7.7)\n",
      "Requirement already satisfied: langcodes<4.0.0,>=3.2.0 in c:\\users\\emiel\\anaconda3\\envs\\torchgpu\\lib\\site-packages (from spacy<3.3.0,>=3.2.0->en-core-web-trf==3.2.0) (3.3.0)\n",
      "Requirement already satisfied: spacy-alignments<1.0.0,>=0.7.2 in c:\\users\\emiel\\appdata\\roaming\\python\\python39\\site-packages (from spacy-transformers<1.2.0,>=1.1.2->en-core-web-trf==3.2.0) (0.8.5)\n",
      "Requirement already satisfied: torch>=1.6.0 in c:\\users\\emiel\\anaconda3\\envs\\torchgpu\\lib\\site-packages (from spacy-transformers<1.2.0,>=1.1.2->en-core-web-trf==3.2.0) (1.11.0+cu113)\n",
      "Requirement already satisfied: transformers<4.18.0,>=3.4.0 in c:\\users\\emiel\\appdata\\roaming\\python\\python39\\site-packages (from spacy-transformers<1.2.0,>=1.1.2->en-core-web-trf==3.2.0) (4.17.0)\n",
      "Requirement already satisfied: colorama in c:\\users\\emiel\\anaconda3\\envs\\torchgpu\\lib\\site-packages (from click<8.1.0->spacy<3.3.0,>=3.2.0->en-core-web-trf==3.2.0) (0.4.4)\n",
      "Requirement already satisfied: pyparsing!=3.0.5,>=2.0.2 in c:\\users\\emiel\\anaconda3\\envs\\torchgpu\\lib\\site-packages (from packaging>=20.0->spacy<3.3.0,>=3.2.0->en-core-web-trf==3.2.0) (3.0.7)\n",
      "Requirement already satisfied: smart-open<6.0.0,>=5.0.0 in c:\\users\\emiel\\anaconda3\\envs\\torchgpu\\lib\\site-packages (from pathy>=0.3.5->spacy<3.3.0,>=3.2.0->en-core-web-trf==3.2.0) (5.2.1)\n",
      "Requirement already satisfied: typing-extensions>=3.7.4.3 in c:\\users\\emiel\\anaconda3\\envs\\torchgpu\\lib\\site-packages (from pydantic!=1.8,!=1.8.1,<1.9.0,>=1.7.4->spacy<3.3.0,>=3.2.0->en-core-web-trf==3.2.0) (4.1.1)\n",
      "Requirement already satisfied: urllib3<1.27,>=1.21.1 in c:\\users\\emiel\\anaconda3\\envs\\torchgpu\\lib\\site-packages (from requests<3.0.0,>=2.13.0->spacy<3.3.0,>=3.2.0->en-core-web-trf==3.2.0) (1.26.9)\n",
      "Requirement already satisfied: certifi>=2017.4.17 in c:\\users\\emiel\\anaconda3\\envs\\torchgpu\\lib\\site-packages (from requests<3.0.0,>=2.13.0->spacy<3.3.0,>=3.2.0->en-core-web-trf==3.2.0) (2021.10.8)\n",
      "Requirement already satisfied: idna<4,>=2.5 in c:\\users\\emiel\\anaconda3\\envs\\torchgpu\\lib\\site-packages (from requests<3.0.0,>=2.13.0->spacy<3.3.0,>=3.2.0->en-core-web-trf==3.2.0) (3.3)\n",
      "Requirement already satisfied: charset-normalizer~=2.0.0 in c:\\users\\emiel\\anaconda3\\envs\\torchgpu\\lib\\site-packages (from requests<3.0.0,>=2.13.0->spacy<3.3.0,>=3.2.0->en-core-web-trf==3.2.0) (2.0.12)\n",
      "Requirement already satisfied: huggingface-hub<1.0,>=0.1.0 in c:\\users\\emiel\\anaconda3\\envs\\torchgpu\\lib\\site-packages (from transformers<4.18.0,>=3.4.0->spacy-transformers<1.2.0,>=1.1.2->en-core-web-trf==3.2.0) (0.5.1)\n",
      "Requirement already satisfied: tokenizers!=0.11.3,>=0.11.1 in c:\\users\\emiel\\anaconda3\\envs\\torchgpu\\lib\\site-packages (from transformers<4.18.0,>=3.4.0->spacy-transformers<1.2.0,>=1.1.2->en-core-web-trf==3.2.0) (0.11.6)\n",
      "Requirement already satisfied: sacremoses in c:\\users\\emiel\\anaconda3\\envs\\torchgpu\\lib\\site-packages (from transformers<4.18.0,>=3.4.0->spacy-transformers<1.2.0,>=1.1.2->en-core-web-trf==3.2.0) (0.0.49)\n",
      "Requirement already satisfied: regex!=2019.12.17 in c:\\users\\emiel\\anaconda3\\envs\\torchgpu\\lib\\site-packages (from transformers<4.18.0,>=3.4.0->spacy-transformers<1.2.0,>=1.1.2->en-core-web-trf==3.2.0) (2022.3.15)\n",
      "Requirement already satisfied: filelock in c:\\users\\emiel\\anaconda3\\envs\\torchgpu\\lib\\site-packages (from transformers<4.18.0,>=3.4.0->spacy-transformers<1.2.0,>=1.1.2->en-core-web-trf==3.2.0) (3.6.0)\n",
      "Requirement already satisfied: pyyaml>=5.1 in c:\\users\\emiel\\anaconda3\\envs\\torchgpu\\lib\\site-packages (from transformers<4.18.0,>=3.4.0->spacy-transformers<1.2.0,>=1.1.2->en-core-web-trf==3.2.0) (6.0)\n",
      "Requirement already satisfied: MarkupSafe>=2.0 in c:\\users\\emiel\\anaconda3\\envs\\torchgpu\\lib\\site-packages (from jinja2->spacy<3.3.0,>=3.2.0->en-core-web-trf==3.2.0) (2.1.1)\n",
      "Requirement already satisfied: six in c:\\users\\emiel\\anaconda3\\envs\\torchgpu\\lib\\site-packages (from sacremoses->transformers<4.18.0,>=3.4.0->spacy-transformers<1.2.0,>=1.1.2->en-core-web-trf==3.2.0) (1.16.0)\n",
      "Requirement already satisfied: joblib in c:\\users\\emiel\\anaconda3\\envs\\torchgpu\\lib\\site-packages (from sacremoses->transformers<4.18.0,>=3.4.0->spacy-transformers<1.2.0,>=1.1.2->en-core-web-trf==3.2.0) (1.1.0)\n",
      "[+] Download and installation successful\n",
      "You can now load the package via spacy.load('en_core_web_trf')\n"
     ]
    }
   ],
   "source": [
    "!python -m spacy download en_core_web_trf"
   ]
  },
  {
   "cell_type": "code",
   "execution_count": 64,
   "metadata": {
    "pycharm": {
     "is_executing": true
    }
   },
   "outputs": [],
   "source": [
    "# Reading the dataset\n",
    "df = pd.read_csv(\"all-data.csv\", encoding='latin-1', header = None)\n",
    "df = df.rename(columns = {0:'Sentiment', 1:'Text'})"
   ]
  },
  {
   "cell_type": "code",
   "execution_count": 65,
   "metadata": {
    "pycharm": {
     "is_executing": true
    }
   },
   "outputs": [],
   "source": [
    "train = df.sample(frac = 0.8, random_state = 25)\n",
    "test = df.drop(train.index)"
   ]
  },
  {
   "cell_type": "code",
   "execution_count": 62,
   "metadata": {
    "pycharm": {
     "is_executing": true
    }
   },
   "outputs": [],
   "source": [
    "nlp=spacy.load(\"en_core_web_trf\")"
   ]
  },
  {
   "cell_type": "code",
   "execution_count": 66,
   "metadata": {
    "pycharm": {
     "is_executing": true
    }
   },
   "outputs": [],
   "source": [
    "train['tuples'] = train.apply(lambda row: (row['Text'],row['Sentiment']), axis=1)\n",
    "train = train['tuples'].tolist()"
   ]
  },
  {
   "cell_type": "code",
   "execution_count": 67,
   "metadata": {
    "pycharm": {
     "is_executing": true
    }
   },
   "outputs": [],
   "source": [
    "test['tuples'] = test.apply(lambda row: (row['Text'],row['Sentiment']), axis=1)\n",
    "test = test['tuples'].tolist()"
   ]
  },
  {
   "cell_type": "code",
   "execution_count": 68,
   "metadata": {
    "pycharm": {
     "is_executing": true
    }
   },
   "outputs": [],
   "source": [
    "def document(data):\n",
    "  text = []\n",
    "  for doc, label in nlp.pipe(data, as_tuples = True):\n",
    "    if (label=='positive'):\n",
    "      doc.cats['positive'] = 1\n",
    "      doc.cats['negative'] = 0\n",
    "      doc.cats['neutral']  = 0\n",
    "    elif (label=='negative'):\n",
    "      doc.cats['positive'] = 0\n",
    "      doc.cats['negative'] = 1\n",
    "      doc.cats['neutral']  = 0\n",
    "    else:\n",
    "      doc.cats['positive'] = 0\n",
    "      doc.cats['negative'] = 0\n",
    "      doc.cats['neutral']  = 1\n",
    "    text.append(doc)\n",
    "  \n",
    "  return(text)"
   ]
  },
  {
   "cell_type": "code",
   "execution_count": 69,
   "metadata": {
    "pycharm": {
     "is_executing": true
    }
   },
   "outputs": [
    {
     "ename": "AttributeError",
     "evalue": "'RobertaTokenizer' object has no attribute 'pipe'",
     "output_type": "error",
     "traceback": [
      "\u001B[1;31m---------------------------------------------------------------------------\u001B[0m",
      "\u001B[1;31mAttributeError\u001B[0m                            Traceback (most recent call last)",
      "Input \u001B[1;32mIn [69]\u001B[0m, in \u001B[0;36m<cell line: 4>\u001B[1;34m()\u001B[0m\n\u001B[0;32m      1\u001B[0m start_time \u001B[38;5;241m=\u001B[39m datetime\u001B[38;5;241m.\u001B[39mnow()\n\u001B[0;32m      3\u001B[0m \u001B[38;5;66;03m#passing the train dataset into function 'document'\u001B[39;00m\n\u001B[1;32m----> 4\u001B[0m train_docs \u001B[38;5;241m=\u001B[39m \u001B[43mdocument\u001B[49m\u001B[43m(\u001B[49m\u001B[43mtrain\u001B[49m\u001B[43m)\u001B[49m\n\u001B[0;32m      6\u001B[0m \u001B[38;5;66;03m#Creating binary document using DocBin function in spaCy\u001B[39;00m\n\u001B[0;32m      7\u001B[0m doc_bin \u001B[38;5;241m=\u001B[39m DocBin(docs \u001B[38;5;241m=\u001B[39m train_docs)\n",
      "Input \u001B[1;32mIn [68]\u001B[0m, in \u001B[0;36mdocument\u001B[1;34m(data)\u001B[0m\n\u001B[0;32m      1\u001B[0m \u001B[38;5;28;01mdef\u001B[39;00m \u001B[38;5;21mdocument\u001B[39m(data):\n\u001B[0;32m      2\u001B[0m   text \u001B[38;5;241m=\u001B[39m []\n\u001B[1;32m----> 3\u001B[0m   \u001B[38;5;28;01mfor\u001B[39;00m doc, label \u001B[38;5;129;01min\u001B[39;00m \u001B[43mnlp\u001B[49m\u001B[38;5;241;43m.\u001B[39;49m\u001B[43mpipe\u001B[49m(data, as_tuples \u001B[38;5;241m=\u001B[39m \u001B[38;5;28;01mTrue\u001B[39;00m):\n\u001B[0;32m      4\u001B[0m     \u001B[38;5;28;01mif\u001B[39;00m (label\u001B[38;5;241m==\u001B[39m\u001B[38;5;124m'\u001B[39m\u001B[38;5;124mpositive\u001B[39m\u001B[38;5;124m'\u001B[39m):\n\u001B[0;32m      5\u001B[0m       doc\u001B[38;5;241m.\u001B[39mcats[\u001B[38;5;124m'\u001B[39m\u001B[38;5;124mpositive\u001B[39m\u001B[38;5;124m'\u001B[39m] \u001B[38;5;241m=\u001B[39m \u001B[38;5;241m1\u001B[39m\n",
      "\u001B[1;31mAttributeError\u001B[0m: 'RobertaTokenizer' object has no attribute 'pipe'"
     ]
    }
   ],
   "source": [
    "start_time = datetime.now()\n",
    "\n",
    "#passing the train dataset into function 'document'\n",
    "train_docs = document(train)\n",
    "\n",
    "#Creating binary document using DocBin function in spaCy\n",
    "doc_bin = DocBin(docs = train_docs)\n",
    "\n",
    "#Saving the binary document as train.spacy\n",
    "doc_bin.to_disk(\"train.spacy\")\n",
    "end_time = datetime.now()\n",
    "\n",
    "#Printing the time duration for train dataset\n",
    "print('Duration: {}'.format(end_time - start_time))"
   ]
  },
  {
   "cell_type": "code",
   "execution_count": 57,
   "metadata": {
    "pycharm": {
     "is_executing": true
    }
   },
   "outputs": [
    {
     "name": "stdout",
     "output_type": "stream",
     "text": [
      "Duration: 0:00:02.881832\n"
     ]
    }
   ],
   "source": [
    "# Calculate the time for converting into binary document for test dataset\n",
    "\n",
    "start_time = datetime.now()\n",
    "\n",
    "#passing the test dataset into function 'document'\n",
    "test_docs = document(test)\n",
    "doc_bin = DocBin(docs = test_docs)\n",
    "doc_bin.to_disk(\"valid.spacy\")\n",
    "end_time = datetime.now()\n",
    "\n",
    "#Printing the time duration for test dataset\n",
    "print('Duration: {}'.format(end_time - start_time))"
   ]
  },
  {
   "cell_type": "code",
   "execution_count": 58,
   "metadata": {
    "pycharm": {
     "is_executing": true
    }
   },
   "outputs": [
    {
     "name": "stdout",
     "output_type": "stream",
     "text": [
      "[+] Auto-filled config with all values\n",
      "[+] Saved config\n",
      "config.cfg\n",
      "You can now add your data and train your pipeline:\n",
      "python -m spacy train config.cfg --paths.train ./train.spacy --paths.dev ./dev.spacy\n"
     ]
    }
   ],
   "source": [
    "!python -m spacy init fill-config ./base_config.cfg ./config.cfg\n"
   ]
  },
  {
   "cell_type": "code",
   "execution_count": 59,
   "metadata": {
    "pycharm": {
     "is_executing": true
    }
   },
   "outputs": [
    {
     "name": "stdout",
     "output_type": "stream",
     "text": [
      "[i] Saving to output directory: output_updatedDuration: 0:10:53.937643\n",
      "\n",
      "[i] Using GPU: 0\n",
      "\u001B[1m\n",
      "=========================== Initializing pipeline ===========================\u001B[0m\n",
      "[+] Initialized pipeline\n",
      "\u001B[1m\n",
      "============================= Training pipeline =============================\u001B[0m\n",
      "[i] Pipeline: ['transformer', 'textcat']\n",
      "[i] Initial learn rate: 0.0\n",
      "E    #       LOSS TRANS...  LOSS TEXTCAT  CATS_SCORE  SCORE \n",
      "---  ------  -------------  ------------  ----------  ------\n",
      "  0       0           0.00          0.03        0.00    0.00\n",
      "  3     200           0.07         39.03       82.20    0.82\n",
      "  6     400           0.26         10.96       86.50    0.86\n",
      " 10     600           0.47          4.89       84.21    0.84\n",
      " 13     800           0.09          0.88       85.51    0.86\n",
      " 17    1000           0.03          0.42       84.70    0.85\n",
      " 20    1200           0.04          0.19       84.33    0.84\n",
      " 24    1400           0.03          0.29       84.70    0.85\n",
      " 27    1600           0.06          0.04       82.56    0.83\n",
      " 31    1800           0.01          0.03       85.33    0.85\n",
      " 34    2000           0.01          0.02       82.53    0.83\n",
      "[+] Saved pipeline to output directory\n",
      "output_updated\\model-last\n"
     ]
    },
    {
     "name": "stderr",
     "output_type": "stream",
     "text": [
      "[2022-04-10 02:00:31,269] [INFO] Set up nlp object from config\n",
      "[2022-04-10 02:00:31,274] [DEBUG] Loading corpus from path: valid.spacy\n",
      "[2022-04-10 02:00:31,275] [DEBUG] Loading corpus from path: train.spacy\n",
      "[2022-04-10 02:00:31,275] [INFO] Pipeline: ['transformer', 'textcat']\n",
      "[2022-04-10 02:00:31,277] [INFO] Created vocabulary\n",
      "[2022-04-10 02:00:31,278] [INFO] Finished initializing nlp object\n",
      "Some weights of the model checkpoint at roberta-base were not used when initializing RobertaModel: ['lm_head.dense.bias', 'lm_head.layer_norm.weight', 'lm_head.decoder.weight', 'lm_head.layer_norm.bias', 'lm_head.dense.weight', 'lm_head.bias']\n",
      "- This IS expected if you are initializing RobertaModel from the checkpoint of a model trained on another task or with another architecture (e.g. initializing a BertForSequenceClassification model from a BertForPreTraining model).\n",
      "- This IS NOT expected if you are initializing RobertaModel from the checkpoint of a model that you expect to be exactly identical (initializing a BertForSequenceClassification model from a BertForSequenceClassification model).\n",
      "[2022-04-10 02:00:40,236] [INFO] Initialized pipeline components: ['transformer', 'textcat']\n",
      "[2022-04-10 02:00:40,241] [DEBUG] Loading corpus from path: valid.spacy\n",
      "[2022-04-10 02:00:40,242] [DEBUG] Loading corpus from path: train.spacy\n",
      "[2022-04-10 02:00:40,268] [DEBUG] Removed existing output directory: output_updated\\model-best\n",
      "[2022-04-10 02:00:40,294] [DEBUG] Removed existing output directory: output_updated\\model-last\n"
     ]
    }
   ],
   "source": [
    "start_time = datetime.now()\n",
    "\n",
    "!python -m spacy train config.cfg --verbose  --gpu-id 0 --output ./output_updated\n",
    "\n",
    "end_time = datetime.now()\n",
    "\n",
    "print('Duration: {}'.format(end_time - start_time))"
   ]
  },
  {
   "cell_type": "code",
   "execution_count": 60,
   "metadata": {
    "pycharm": {
     "is_executing": true
    }
   },
   "outputs": [
    {
     "name": "stdout",
     "output_type": "stream",
     "text": [
      "{'positive': 0.9436200857162476, 'negative': 0.0033362458925694227, 'neutral': 0.0530436746776104}\n"
     ]
    }
   ],
   "source": [
    "#Test the data from the best model\n",
    "nlp = spacy.load(\"output_updated/model-best\")\n",
    "demo = nlp(\"Adjusted for changes in the Group structure , the Division 's net sales increased by 1.7 % .\")\n",
    "print(demo.cats)"
   ]
  }
 ],
 "metadata": {
  "kernelspec": {
   "display_name": "Python 3 (ipykernel)",
   "language": "python",
   "name": "python3"
  },
  "language_info": {
   "codemirror_mode": {
    "name": "ipython",
    "version": 3
   },
   "file_extension": ".py",
   "mimetype": "text/x-python",
   "name": "python",
   "nbconvert_exporter": "python",
   "pygments_lexer": "ipython3",
   "version": "3.9.0"
  }
 },
 "nbformat": 4,
 "nbformat_minor": 1
}